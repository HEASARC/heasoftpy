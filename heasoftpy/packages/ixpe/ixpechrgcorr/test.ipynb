{
 "cells": [
  {
   "cell_type": "code",
   "execution_count": null,
   "id": "60b73dcc",
   "metadata": {},
   "outputs": [],
   "source": [
    "import sys, os\n",
    "\n",
    "sys.path.insert(0, os.path.abspath(os.path.join(os.getcwd(), '../../../..')))\n",
    "os.environ['PFILES'] = os.getcwd() +';' + os.environ['PFILES']"
   ]
  },
  {
   "cell_type": "code",
   "execution_count": null,
   "id": "21695482-e847-4618-88f2-eeee3754ca72",
   "metadata": {},
   "outputs": [],
   "source": [
    "import heasoftpy as hsp\n",
    "from heasoftpy import contrib as hspC"
   ]
  },
  {
   "cell_type": "code",
   "execution_count": null,
   "id": "e7b615ee-b8d8-49ab-90e4-a4cd6151ace5",
   "metadata": {},
   "outputs": [],
   "source": [
    "hspC.ixpechrgcorr(infile='', outfile='', initmapfile='')"
   ]
  },
  {
   "cell_type": "code",
   "execution_count": null,
   "id": "61e5e2c1-0c1e-4782-a7b3-5d6ae579f2a4",
   "metadata": {},
   "outputs": [],
   "source": []
  }
 ],
 "metadata": {
  "kernelspec": {
   "display_name": "Python 3",
   "language": "python",
   "name": "python3"
  },
  "language_info": {
   "codemirror_mode": {
    "name": "ipython",
    "version": 3
   },
   "file_extension": ".py",
   "mimetype": "text/x-python",
   "name": "python",
   "nbconvert_exporter": "python",
   "pygments_lexer": "ipython3",
   "version": "3.8.2"
  }
 },
 "nbformat": 4,
 "nbformat_minor": 5
}
