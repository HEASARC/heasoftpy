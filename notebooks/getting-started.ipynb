{
 "cells": [
  {
   "cell_type": "markdown",
   "id": "36014ee4-c710-46a7-b567-40d60747a2cf",
   "metadata": {},
   "source": [
    "## Introduction\n",
    "`heasoftpy` is a python wrapper around the `HEASoft` tools.\n",
    "\n",
    "This notebooks is a quick \"Getting Started\" guide. It contains a walkthough the main features of the package\n",
    "\n",
    "The first thing we need is to import the `heasoftpy` package. \n",
    ">The first three lines are needed in case `heasoftpy` is not installed yet. We add the folder containing `heasoftpy` to `sys.path` so we can import it.\n"
   ]
  },
  {
   "cell_type": "code",
   "execution_count": 1,
   "id": "70abf05f-9408-4fd9-b1d8-66a3547958a6",
   "metadata": {},
   "outputs": [],
   "source": [
    "import sys\n",
    "import os\n",
    "sys.path.insert(0, os.path.abspath(os.path.join(os.path.abspath(''), '..')))\n",
    "\n",
    "import heasoftpy as hsp"
   ]
  },
  {
   "cell_type": "markdown",
   "id": "abc7b9d7-e461-4931-9800-b31558b50136",
   "metadata": {},
   "source": [
    "The general package help can printed by doing `hsp?` or `hsp.help()`"
   ]
  },
  {
   "cell_type": "code",
   "execution_count": 2,
   "id": "4319bd9a-3925-413e-8e6b-9e0914595f62",
   "metadata": {
    "scrolled": true,
    "tags": []
   },
   "outputs": [
    {
     "name": "stdout",
     "output_type": "stream",
     "text": [
      "\n",
      "VERIONS:\n",
      "-------\n",
      "0.1: (AZ) importing and re-organizaing functionality from old code.\n",
      "\n",
      "\n",
      "DESCRIPTION:\n",
      "-----------\n",
      "HEASoftpy is a Python package to wrap the HEASoft tools so that \n",
      "they can be called from python scripts, interactive ipython \n",
      "sessions, or Jupyter Notebooks.  \n",
      "\n",
      ">>> import heasoftpy as hsp\n",
      ">>> help(hsp.fdump)\n",
      "...\n",
      "\n",
      ">>> result = hsp.ftlist(infile='input.fits', option='T')\n",
      ">>> print(result.stdout)\n",
      "...\n",
      "\n",
      "\n",
      "EXAMPLE USAGE:\n",
      "--------------\n",
      "Using tasks in heasoftpy offer flexibility in usage.\n",
      "\n",
      "- Built-in tasks can be called directly:\n",
      ">>> result = hsp.ftlist(infile='input.fits', option='T')\n",
      "\n",
      "\n",
      "- A task object can be created and called:\n",
      ">>> ftlist = hsp.HSPTask('ftlist')\n",
      ">>> result = ftlist(infile='input.fits', option='T')\n",
      "\n",
      "\n",
      "- Or the python scripts can be called directly from the command Line:\n",
      ">>> ftlist.py infile=input.fits option=T\n",
      "\n",
      "\n",
      "The input to the functions is also flexible:\n",
      "\n",
      "- Use individual parameters:\n",
      ">>> result = hsp.ftlist(infile='input.fits', option='T')\n",
      "\n",
      "- Pass a dictionary of parameters:\n",
      ">>> params = {'infile':'input.fits', 'option':'T'}\n",
      ">>> result = hsp.ftlist(params)\n",
      "\n",
      "\n",
      "HELP:\n",
      "----\n",
      "Help for tasks can be accesed by:\n",
      ">>> hsp.fdump?\n",
      "\n",
      "\n",
      "ADDIING PYTHON TASKS\n",
      "--------------------\n",
      "The core of HEASoftpy os the class HSPTask, which handles the .par \n",
      "parameter reading and setting. It was written in a way to make it \n",
      "easy for writing new codes that can be easily integrated within \n",
      "HEASoft. All that is needed, in addition to creating a .par file, \n",
      "is to create subclass of HSPTask and implements a method exec_task \n",
      "that does the task function. \n",
      "\n",
      ">>> class SampleTask(hsp.HSPTask):\n",
      ">>>     def exec_task(self):\n",
      ">>>        params = self.params\n",
      ">>>        # --- write your code here --- #\n",
      ">>>        # ...\n",
      ">>>        # ---------------------------- #\n",
      ">>>        return hsp.RSPResult(returncode, stdout, stderr, params)\n",
      "\n",
      "\n",
      "NOTES:\n",
      "------\n",
      "Although HEASoftpy is written in pure python, it does NOT rewrite\n",
      "the functions and tools already existing in HEASoft. A working\n",
      "installation of HEASoft is therefore required.\n",
      "\n",
      "\n",
      "\n",
      "\n"
     ]
    }
   ],
   "source": [
    "hsp.help()"
   ]
  },
  {
   "cell_type": "markdown",
   "id": "21b9686e-b767-4458-9f45-81ae566c43e9",
   "metadata": {},
   "source": [
    "## Example 1: Exploring The Content of a Fits File with `ftlist`\n",
    "\n",
    "The simplest way to run a task is call the function directly (after installing the package) as: `hsp.taks_name(...)`\n",
    "\n",
    "Here too, we can print the help text for a task using standard python help: `hsp.task_name?`\n"
   ]
  },
  {
   "cell_type": "code",
   "execution_count": 3,
   "id": "63a36244-b55b-4a57-aa59-5139c7cc10c8",
   "metadata": {
    "scrolled": true,
    "tags": []
   },
   "outputs": [
    {
     "data": {
      "text/plain": [
       "\u001b[0;31mSignature:\u001b[0m \u001b[0mhsp\u001b[0m\u001b[0;34m.\u001b[0m\u001b[0mftlist\u001b[0m\u001b[0;34m(\u001b[0m\u001b[0margs\u001b[0m\u001b[0;34m=\u001b[0m\u001b[0;32mNone\u001b[0m\u001b[0;34m,\u001b[0m \u001b[0;34m**\u001b[0m\u001b[0mkwargs\u001b[0m\u001b[0;34m)\u001b[0m\u001b[0;34m\u001b[0m\u001b[0;34m\u001b[0m\u001b[0m\n",
       "\u001b[0;31mDocstring:\u001b[0m\n",
       "    Automatically generated function for Heasoft task ftlist.\n",
       "    Additional help may be provided below.\n",
       "\n",
       "    Args:\n",
       "     infile       (Req) : Input file name  (default: ../tests/test.fits)\n",
       "     option       (Req) : Print options: H C K I T  (default: T)\n",
       "     outfile            : Optional output file  (default: -)\n",
       "     clobber            : Overwrite existing output file?  (default: no)\n",
       "     include            : Include keywords list  (default: *)\n",
       "     exclude            : Exclude keywords list  (default: )\n",
       "     section            : Image section to print (default: *)\n",
       "     columns            : Table columns to print  (default: *)\n",
       "     rows               : Table rows or ranges to print (default: -)\n",
       "     vector             : Vector range to print (default: -)\n",
       "     separator          : Column separator string  (default:  )\n",
       "     rownum             : Print row number?  (default: no)\n",
       "     colheader          : Print column header?  (default: no)\n",
       "     mode               : Mode  (default: ql)\n",
       "\n",
       "\n",
       "\n",
       "--------------------------------------------------\n",
       "   The following has been generated from fhelp\n",
       "--------------------------------------------------\n",
       "NAME\n",
       "\n",
       "   ftlist - List the contents of the input file.\n",
       "\n",
       "USAGE\n",
       "\n",
       "   ftlist infile[ext][filters] option\n",
       "\n",
       "DESCRIPTION\n",
       "\n",
       "   'ftlist' displays the contents of the input file. Depending on the\n",
       "   value of the 'option' parameter, this task can be used to list any\n",
       "   combination of the following:\n",
       "\n",
       "     * a one line summary of the contents of each HDU (option = H)\n",
       "     * the names, units, and ranges of each table column (option = C)\n",
       "     * all or a selected subset of the header keywords (option = K)\n",
       "     * the pixel values in a subset of an image (option = I)\n",
       "     * the values in selected rows and columns of a table (option = T)\n",
       "\n",
       "   If a specific HDU name or number is given as part of the input file\n",
       "   name then only that HDU will be listed. If only the root name of the\n",
       "   file is specified, then every HDU in the file will be listed.\n",
       "\n",
       "PARAMETERS\n",
       "\n",
       "   infile [filename]\n",
       "          Input file name and optional extension name or number enclosed\n",
       "          in square brackets of the file or HDU to be displayed. If a\n",
       "          specific HDU is not given, then all the HDUs in the file will be\n",
       "          displayed. Additional virtual file filters can be appended to\n",
       "          the file name, as shown in some of the examples, to modify the\n",
       "          amount of information that is display.\n",
       "\n",
       "   option [string]\n",
       "          The option parameter controls the type of information to\n",
       "          display. The string may consist of any combination of the\n",
       "          characters H, C, K, I, and/or T, where,\n",
       "\n",
       "         H lists a 1-line summary of the HDU,\n",
       "         C lists the names and units of Columns in a table,\n",
       "         K lists the Keywords,\n",
       "         I lists Image pixel values, and\n",
       "         T lists the element values in rows and columns of a Table.\n",
       "\n",
       "          By default the K, I, and T options display, respectively, all\n",
       "          the keywords, image pixels or table elements in the HDU. These\n",
       "          options can be modified to display only a restricted range of\n",
       "          values by using the additional parameters described below.\n",
       "\n",
       "   (outfile = \"-\") [filename]\n",
       "          Name of optional text file where the output listing will be\n",
       "          sent. If 'outfile' = \"-\", \"stdout\", \"STDOUT\", or a blank string,\n",
       "          then the output will be sent to the stdout stream. If the name\n",
       "          is preceded by an '!' (or '\\!' on the Unix command line), then\n",
       "          any existing file with that name will be overwritten by the new\n",
       "          file.\n",
       "\n",
       "   (clobber = No) [boolean]\n",
       "          If outfile already exists, then setting \"clobber = yes\" will\n",
       "          cause it to be overwritten.\n",
       "\n",
       "   (include = \"*\") [string]\n",
       "          When listing header keywords (with option = 'K') the 'include'\n",
       "          parameter contains a comma separated list of the keywords to be\n",
       "          displayed. The wild card characters (?, *, and #) may be used in\n",
       "          the names, where '?' will match any single character, '*'\n",
       "          matches any string of characters (including zero characters) and\n",
       "          '#' matches a string of decimal digits. The default value, '*',\n",
       "          will display every keyword. For example, include =\n",
       "          'p*,naxis#,?zero*' will display all keywords beginning with 'P',\n",
       "          plus all keywords beginning with 'NAXIS' and followed by one or\n",
       "          more digits, plus all the keywords that have the string 'ZERO'\n",
       "          as the 2nd through 5th characters of the keyword name.\n",
       "\n",
       "   (exclude = \"\") [string]\n",
       "          When listing header keywords (with option = 'K') the 'exclude'\n",
       "          parameter contains an optional comma separated list of keyword\n",
       "          names that should not be displayed, even if they match one of\n",
       "          the 'include' keyword names . Wildcard characters may be used in\n",
       "          the list as described for the 'include' parameter. For example,\n",
       "          include='C*' and exclude='COMMENT' will list all the keywords\n",
       "          beginning with C except the COMMENT keywords.\n",
       "\n",
       "   (section = \"*:*\") [string]\n",
       "          When listing the pixel values in an image (with option = 'I'),\n",
       "          the 'section' parameter specifies the range of row and columns\n",
       "          in the image to display. By default the entire image will be\n",
       "          listed, but this is probably not useful in most cases because\n",
       "          the long output lines will simply wrap around on the display.\n",
       "          The image section format is \"xmin:xmax,ymin:ymax\". For example,\n",
       "          \"30:35,40:50\" will display the pixel values in columns 30 - 35\n",
       "          and rows 40 - 50 of the image.\n",
       "\n",
       "   (columns = \"*\") [string]\n",
       "          When listing the contents of FITS tables (with option = 'T') the\n",
       "          'columns' parameter gives a comma separated list of the columns\n",
       "          in the table to be displayed. Either the column name or the\n",
       "          columun number (beginning with 1 for the first column in the\n",
       "          table) may be listed; The column names are not case-sensitive.\n",
       "          The columns will be displayed in the order that they are given\n",
       "          in this list. If a column name in the list does not exist in the\n",
       "          table, it will be ignored.\n",
       "\n",
       "          The wildcard characters (?, *, and #) may be used in the names\n",
       "          to match more than one column, as described for the 'include'\n",
       "          parameter. For example, 'columns=?sky' will list all the columns\n",
       "          whose names are 4 characters long and end with the string 'sky'.\n",
       "          The default value, '*', will display all the columns in the\n",
       "          table.\n",
       "\n",
       "          The simplest way to display all but a small number of columns in\n",
       "          the table is to use the '[col]' virtual filename filter to list\n",
       "          the excluded columns, preceded by a minus sign. For example, if\n",
       "          infile = 'file.fits[col -ACOL;-BCOL]' then all the columns in\n",
       "          the table except the columns named 'ACOL' and 'BCOL' will be\n",
       "          displayed.\n",
       "\n",
       "   (rows = \"-\") [string]\n",
       "          When listing the contents of FITS tables (with option = 'T') the\n",
       "          'rows' parameter gives a comma separated list of rows or row\n",
       "          ranges in the table to be displayed. For example, \"2,4,8-12\"\n",
       "          will display the table element values in rows 2, 4, and rows 8\n",
       "          through 12 of the table, and \"50-\" will display rows 50 and\n",
       "          higher. The row numbers must be specified in ascending order and\n",
       "          the ranges must not overlap. By default, all rows are displayed.\n",
       "\n",
       "   (vector = \"-\") [string]\n",
       "          When listing the contents of vector columns in binary tables\n",
       "          (with option = \"T\"), the 'vector' parameter gives the range of\n",
       "          elements in the vector to display. For example, vector=1-5 will\n",
       "          list the first 5 elements. By default, all elements are\n",
       "          displayed. Bit columns, (e.g., with TFORMn = '32X') are a\n",
       "          special case and are displayed as a string of 1s or 0s, 8 bits\n",
       "          per line. In this case, 'vector=1-2' would display the first 16\n",
       "          bits in the vector.\n",
       "\n",
       "   (separator = \" \") [string]\n",
       "          When listing image pixel values (option = 'I') or table elements\n",
       "          (option = 'T'), the string given by the separator parameter will\n",
       "          be inserted between each column. By default, the columns will be\n",
       "          separated by a space character.\n",
       "\n",
       "   (rownum = \"Yes\") [boolean]\n",
       "          If rownum = \"Yes\", then the row number will be listed at the\n",
       "          beginning of each row when displaying image pixels (option =\n",
       "          'I') or table data (option = 'T').\n",
       "\n",
       "   (colheader = \"Yes\") [boolean]\n",
       "          If colheader = \"Yes\", a header will be listed at the top of each\n",
       "          column when displaying image pixels (option = 'I') or table data\n",
       "          (option = 'T'). The header consists of the column number in the\n",
       "          case of images, and the column name and units in the case of\n",
       "          tables.\n",
       "\n",
       "EXAMPLES\n",
       "\n",
       "   Note that when commands are issued on the Unix command line, strings\n",
       "   containing special characters such as '[' or ']' must be enclosed in\n",
       "   single or double quotes.\n",
       "\n",
       "   1. Print out summary information about each HDU in the input file (the\n",
       "   'H' option), and a list of the columns in each table HDU (the 'C'\n",
       "   option).\n",
       "\n",
       "      ftlist infile.fits hc\n",
       "\n",
       "   2. Print out the HDU summary (H option) and the header keywords (K\n",
       "   option) in the input file. The first example lists all the keywords in\n",
       "   the all the HDUs in the file. The second example lists only the COMMENT\n",
       "   and HISTORY keywords in the 2nd HDU in the file. The 3rd example lists\n",
       "   all the keyword beginning with the letter 'C', excluding the COMMENT\n",
       "   keywords.\n",
       "\n",
       "      ftlist infile.fits hk\n",
       "\n",
       "      ftlist infile.fits+1 hk include='comment,history'\n",
       "\n",
       "      ftlist infile.fits+1 hk include='c*' exclude='COMMENT'\n",
       "\n",
       "   3. Print out summary HDU information, a list of columns in the table,\n",
       "   and the element values in the tables. The first example lists the\n",
       "   entire contents of all the table HDUs in the file. The 2nd example\n",
       "   lists only rows 1 through 20 of the X and Y columns in the EVENTS\n",
       "   extension. The 3rd example is similar, except it lists the 1st and 3rd\n",
       "   columns in the table. The 4th example lists all the columns except the\n",
       "   'time' column, and only displays the first two elements of each vector\n",
       "   column.\n",
       "\n",
       "      ftlist infile.fits hct\n",
       "\n",
       "      ftlist 'infile.fits[events]' hct rows=1-20 columns=x,y\n",
       "\n",
       "      ftlist 'infile.fits[events]' hct rows=1-20 columns=1,3\n",
       "\n",
       "      ftlist 'infile.fits[col -time]' hct vector=1-2\n",
       "\n",
       "\n",
       "   4. Dump all the row and columns in the EVENTS table to the out.fits\n",
       "   file; the values are separated by a comma, and no column headers or row\n",
       "   numbers are printed.\n",
       "\n",
       "      ftlist 'infile.fits[events] t outfile=out.fits separator=', '\n",
       "              rownum=no colheader=no\n",
       "\n",
       "\n",
       "   5. Print out the image pixel values for columns 50 through 55 and rows\n",
       "   20 through 40 in the input image, suppressing the column headers and\n",
       "   row numbers.\n",
       "\n",
       "      ftlist image.fits i section=50:55,20:40 colheader=no rownum=no\n",
       "\n",
       "SEE ALSO\n",
       "\n",
       "   filenames, imfilter, colfilter, rowfilter, binfilter,\n",
       "\n",
       "   fv, the interactive FITS file editor, can also be used to view the\n",
       "   contents of FITS files.\n",
       "\n",
       "   The design of this task is based on the fdump, fstruct, flcol,\n",
       "   fkeyprint, flist, and fimgdmp tasks in the ftools package and the\n",
       "   dmlist task in the CXC CIAO package.\n",
       "\n",
       "LAST MODIFIED\n",
       "\n",
       "   April 2002\n",
       "\n",
       "        \n",
       "    \n",
       "\u001b[0;31mFile:\u001b[0m      ~/codes/python/heasarc/heasoftpyAZ/heasoftpy/fcn/ftlist.py\n",
       "\u001b[0;31mType:\u001b[0m      function\n"
      ]
     },
     "metadata": {},
     "output_type": "display_data"
    }
   ],
   "source": [
    "result = hsp.ftlist?"
   ]
  },
  {
   "cell_type": "code",
   "execution_count": null,
   "id": "cbadde80-d93a-42c6-93d4-d7cbee2f7cff",
   "metadata": {},
   "outputs": [],
   "source": [
    "result = hsp.ftlist"
   ]
  },
  {
   "cell_type": "markdown",
   "id": "fbad497f-b6a8-43c4-9f37-8fabd904035f",
   "metadata": {},
   "source": [
    "For `ftlist`, there two required inputs: `infile` and `option`, so that both paramters need to be provided, otherwise, we will get prompted for the missing parameters"
   ]
  },
  {
   "cell_type": "code",
   "execution_count": 4,
   "id": "8d082c34-0fa9-44d4-98e7-94da729ea626",
   "metadata": {},
   "outputs": [],
   "source": [
    "result = hsp.ftlist(infile='../tests/test.fits', option='T')"
   ]
  },
  {
   "cell_type": "markdown",
   "id": "91c0e293-e045-4fd1-9f49-b4667616ba4e",
   "metadata": {},
   "source": [
    "Running a task returns an `HSPResult` instance, which is a simple container for the results that contains:\n",
    "- `returncode`: a return code: 0 if the task executed without errors (int).\n",
    "- `stdout`: standard output (str).\n",
    "- `stderr`: standard error message (str).\n",
    "- `params`: dict of user parameters in case the task changed them, used to update the .par file.\n",
    "- `custom`: dict of any other variables to returned by the task.\n",
    "\n",
    "In this case, we may want to just print the output as:"
   ]
  },
  {
   "cell_type": "code",
   "execution_count": 5,
   "id": "6a9baf68-843a-48fc-82c4-943a1a4a2854",
   "metadata": {
    "scrolled": true,
    "tags": []
   },
   "outputs": [
    {
     "name": "stdout",
     "output_type": "stream",
     "text": [
      "return code: 0\n",
      "       1164.29445392592        18.2019        1.22564\n",
      "       1164.43056492592        16.3479        1.38458\n",
      "       1164.43167642593        17.2304        1.48210\n",
      "       1164.77686142593        14.8949        1.54721\n",
      "       1164.85352792592        14.7539        1.32291\n",
      "       1164.85463892593        14.2253       0.989307\n",
      "       1164.85463892593        14.3773        1.86374\n",
      "       1166.26056492592        19.2784        1.28549\n",
      "       1166.26167642593        17.5375       0.767405\n",
      "       1166.26167642593        19.7158        1.08722\n",
      "\n"
     ]
    }
   ],
   "source": [
    "print('return code:', result.returncode)\n",
    "print(result.stdout)"
   ]
  },
  {
   "cell_type": "markdown",
   "id": "c6d7e053-814c-4029-9a34-bc915c0b1387",
   "metadata": {},
   "source": [
    "A `returncode = 0` indicates the task executed without problems.\n",
    "\n",
    "We can print the content `result` to see all the returns of the task:"
   ]
  },
  {
   "cell_type": "code",
   "execution_count": 6,
   "id": "7585a877-b4e2-41dd-93c2-0044bfa4a800",
   "metadata": {
    "scrolled": true,
    "tags": []
   },
   "outputs": [
    {
     "name": "stdout",
     "output_type": "stream",
     "text": [
      "---------------------\n",
      ":: Execution Result ::\n",
      "---------------------\n",
      "> Return Code: 0\n",
      "> Output:\n",
      "       1164.29445392592        18.2019        1.22564\n",
      "       1164.43056492592        16.3479        1.38458\n",
      "       1164.43167642593        17.2304        1.48210\n",
      "       1164.77686142593        14.8949        1.54721\n",
      "       1164.85352792592        14.7539        1.32291\n",
      "       1164.85463892593        14.2253       0.989307\n",
      "       1164.85463892593        14.3773        1.86374\n",
      "       1166.26056492592        19.2784        1.28549\n",
      "       1166.26167642593        17.5375       0.767405\n",
      "       1166.26167642593        19.7158        1.08722\n",
      "\n",
      "> Errors: None\n",
      "> Parameters:\n",
      "\tinfile    : ../tests/test.fits\n",
      "\toption    : T\n",
      "\toutfile   : -\n",
      "\tclobber   : no\n",
      "\tinclude   : *\n",
      "\texclude   : \n",
      "\tsection   : *\n",
      "\tcolumns   : *\n",
      "\trows      : -\n",
      "\tvector    : -\n",
      "\tseparator :  \n",
      "\trownum    : no\n",
      "\tcolheader : no\n",
      "\tmode      : ql\n"
     ]
    }
   ],
   "source": [
    "print(result)"
   ]
  },
  {
   "cell_type": "markdown",
   "id": "e285bae2-d9ae-4d89-8e4b-8c84e6f71df6",
   "metadata": {},
   "source": [
    "We can modify the parameters returned in results, and pass them again to the task.\n",
    "\n",
    "Say we want to print the column header:"
   ]
  },
  {
   "cell_type": "code",
   "execution_count": 7,
   "id": "6d17247f-8d6b-41cb-bbcc-59d3399a3f95",
   "metadata": {
    "scrolled": true,
    "tags": []
   },
   "outputs": [
    {
     "name": "stdout",
     "output_type": "stream",
     "text": [
      "\n",
      "                   TIME           RATE          ERROR\n",
      "                      d       counts/s       counts/s\n",
      "       1164.29445392592        18.2019        1.22564\n",
      "       1164.43056492592        16.3479        1.38458\n",
      "       1164.43167642593        17.2304        1.48210\n",
      "       1164.77686142593        14.8949        1.54721\n",
      "       1164.85352792592        14.7539        1.32291\n",
      "       1164.85463892593        14.2253       0.989307\n",
      "       1164.85463892593        14.3773        1.86374\n",
      "       1166.26056492592        19.2784        1.28549\n",
      "       1166.26167642593        17.5375       0.767405\n",
      "       1166.26167642593        19.7158        1.08722\n",
      "\n"
     ]
    }
   ],
   "source": [
    "params  = result.params\n",
    "params['colheader'] = 'yes'\n",
    "result2 = hsp.ftlist(params)\n",
    "\n",
    "print(result2.stdout)"
   ]
  },
  {
   "cell_type": "markdown",
   "id": "2b94edeb-d035-458e-b693-141b88ff6514",
   "metadata": {},
   "source": [
    "Notice how the column header is printed now!\n",
    "\n",
    "If we forget to pass a required parameter, we will be prompted for it. For example:"
   ]
  },
  {
   "cell_type": "code",
   "execution_count": 8,
   "id": "234090a5-34c2-41e8-9bf6-08cc2b7f027a",
   "metadata": {},
   "outputs": [
    {
     "name": "stdin",
     "output_type": "stream",
     "text": [
      ":: ftlist:option ::\n",
      "Print options: H C K I T  (T) >  \n"
     ]
    }
   ],
   "source": [
    "result = hsp.ftlist(infile='../tests/test.fits')"
   ]
  },
  {
   "cell_type": "markdown",
   "id": "c5b539c4-7e15-4bd9-831b-c6b62b1aaa60",
   "metadata": {},
   "source": [
    "In this case, parameter `filist:option` was missing, so we are prompted for it, and the default value is printed between brackets: `(T)`, we can type a value, just press Return to accept the default value.\n",
    "\n",
    "---\n",
    "For tasks that take longer to run, the user may be interested in the seeing the output as the task runs. There is a `verbose` option to print the output of the command similar to the standard output in command line tasks."
   ]
  },
  {
   "cell_type": "code",
   "execution_count": 9,
   "id": "c557e1a5-74bc-4dd9-947c-9fa57532f961",
   "metadata": {
    "scrolled": true,
    "tags": []
   },
   "outputs": [
    {
     "name": "stdout",
     "output_type": "stream",
     "text": [
      "       1164.29445392592        18.2019        1.22564\n",
      "       1164.43056492592        16.3479        1.38458\n",
      "       1164.43167642593        17.2304        1.48210\n",
      "       1164.77686142593        14.8949        1.54721\n",
      "       1164.85352792592        14.7539        1.32291\n",
      "       1164.85463892593        14.2253       0.989307\n",
      "       1164.85463892593        14.3773        1.86374\n",
      "       1166.26056492592        19.2784        1.28549\n",
      "       1166.26167642593        17.5375       0.767405\n",
      "       1166.26167642593        19.7158        1.08722\n"
     ]
    }
   ],
   "source": [
    "result = hsp.ftlist(infile='../tests/test.fits', option='T', verbose=True)"
   ]
  },
  {
   "cell_type": "markdown",
   "id": "a9d6879f-714f-4582-9e4b-0cfe2f9539b1",
   "metadata": {},
   "source": [
    "---\n",
    "There is an alternative way to calling a task, and that is by creating an instance of `HSPTask` and calling it. For the example of `ftlist`, we would do:"
   ]
  },
  {
   "cell_type": "code",
   "execution_count": 10,
   "id": "570efbc5-100b-420d-8cbf-234f4d00d39a",
   "metadata": {
    "scrolled": true,
    "tags": []
   },
   "outputs": [],
   "source": [
    "# create a task object\n",
    "ftlist = hsp.HSPTask('ftlist')\n",
    "result = ftlist(infile='../tests/test.fits', option='T')"
   ]
  },
  {
   "cell_type": "markdown",
   "id": "a3ba4467-56ba-497c-97f0-8fc41d962116",
   "metadata": {},
   "source": [
    "the `ftlist` instance acts just like the function `hsp.ftlist` above."
   ]
  },
  {
   "cell_type": "code",
   "execution_count": 11,
   "id": "0a48f61e-2df7-4b8c-9984-760780121241",
   "metadata": {
    "scrolled": true,
    "tags": []
   },
   "outputs": [
    {
     "name": "stdout",
     "output_type": "stream",
     "text": [
      "       1164.29445392592        18.2019        1.22564\n",
      "       1164.43056492592        16.3479        1.38458\n",
      "       1164.43167642593        17.2304        1.48210\n",
      "       1164.77686142593        14.8949        1.54721\n",
      "       1164.85352792592        14.7539        1.32291\n",
      "       1164.85463892593        14.2253       0.989307\n",
      "       1164.85463892593        14.3773        1.86374\n",
      "       1166.26056492592        19.2784        1.28549\n",
      "       1166.26167642593        17.5375       0.767405\n",
      "       1166.26167642593        19.7158        1.08722\n",
      "\n"
     ]
    }
   ],
   "source": [
    "# run the task\n",
    "out = ftlist(infile='../tests/test.fits', option='T')\n",
    "print(out.stdout)"
   ]
  },
  {
   "cell_type": "markdown",
   "id": "81ab5a7e-1193-4de4-aedd-be3d1ba4bd1d",
   "metadata": {},
   "source": [
    "---\n",
    "\n",
    "### Disable parameter query\n",
    "\n",
    "For some tasks, particularly pipelines, the user may want to runs the task without querying all the parameters. \n",
    "In that case, we can pass the `noprompt=True` when calling the task, and `heasoftpy` will run the task without\n",
    "checking the prameters. For example, to process the NuSTAR observation `60001111003`, we can do:\n",
    "\n",
    "```python\n",
    "r = hsp.nupipeline(indir='60001111003', outdir='60001111003_p', steminputs='nu60001111003', \n",
    "                   noprompt=True, verbose=True)\n",
    "```\n",
    "\n",
    "this will call `nupipeline` without querying all parameters (using the defaults), and printing all progress as it runs (`verbose=True`)"
   ]
  }
 ],
 "metadata": {
  "kernelspec": {
   "display_name": "Python 3",
   "language": "python",
   "name": "python3"
  },
  "language_info": {
   "codemirror_mode": {
    "name": "ipython",
    "version": 3
   },
   "file_extension": ".py",
   "mimetype": "text/x-python",
   "name": "python",
   "nbconvert_exporter": "python",
   "pygments_lexer": "ipython3",
   "version": "3.8.2"
  }
 },
 "nbformat": 4,
 "nbformat_minor": 5
}
