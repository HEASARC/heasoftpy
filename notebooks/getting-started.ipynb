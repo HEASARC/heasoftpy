{
 "cells": [
  {
   "cell_type": "markdown",
   "id": "36014ee4-c710-46a7-b567-40d60747a2cf",
   "metadata": {},
   "source": [
    "## Introduction\n",
    "`heasoftpy` is a python wrapper around the `HEASoft` tools.\n",
    "\n",
    "This notebooks is a quick \"Getting Started\" guide. It contains a walkthough the main features of the package\n",
    "\n",
    "The first thing we need is to import the `heasoftpy` package. \n",
    "Please follow the insallation instructions in in `README` file.\n"
   ]
  },
  {
   "cell_type": "code",
   "execution_count": null,
   "id": "70abf05f-9408-4fd9-b1d8-66a3547958a6",
   "metadata": {},
   "outputs": [],
   "source": [
    "import sys\n",
    "import os"
   ]
  },
  {
   "cell_type": "code",
   "execution_count": null,
   "id": "b83d6060-d853-483a-b1ea-ef048011cc71",
   "metadata": {},
   "outputs": [],
   "source": [
    "# check the installation #\n",
    "if not 'HEADAS' in os.environ:\n",
    "    raise RuntimeError('Heasoft is not initalized')\n",
    "\n",
    "try:\n",
    "    sys.path.insert(0, os.path.abspath(os.path.join(os.path.abspath(''), '..')))\n",
    "    import heasoftpy as hsp\n",
    "except ImportError:\n",
    "    raise RuntimeError('Please ensure heasoftpy is in your PYTHONPATH')\n",
    "    \n",
    "if not hasattr(hsp, 'ftlist'):\n",
    "    raise RuntimeError('Heasoftpy is not full installed. Please run the install.py script')"
   ]
  },
  {
   "cell_type": "code",
   "execution_count": null,
   "id": "15c0d2f4",
   "metadata": {},
   "outputs": [],
   "source": [
    "print(hsp.__version__)\n",
    "print(hsp.__path__)"
   ]
  },
  {
   "cell_type": "markdown",
   "id": "abc7b9d7-e461-4931-9800-b31558b50136",
   "metadata": {},
   "source": [
    "The general package help can printed by doing `hsp?` or `hsp.help()`"
   ]
  },
  {
   "cell_type": "code",
   "execution_count": null,
   "id": "4319bd9a-3925-413e-8e6b-9e0914595f62",
   "metadata": {
    "scrolled": true,
    "tags": []
   },
   "outputs": [],
   "source": [
    "hsp.help()"
   ]
  },
  {
   "cell_type": "markdown",
   "id": "21b9686e-b767-4458-9f45-81ae566c43e9",
   "metadata": {},
   "source": [
    "## Example 1: Exploring The Content of a Fits File with `ftlist`\n",
    "\n",
    "The simplest way to run a task is call the function directly (after installing the package) as: `hsp.taks_name(...)`\n",
    "\n",
    "Here too, we can print the help text for a task using standard python help: `hsp.task_name?`\n"
   ]
  },
  {
   "cell_type": "code",
   "execution_count": null,
   "id": "63a36244-b55b-4a57-aa59-5139c7cc10c8",
   "metadata": {
    "scrolled": true,
    "tags": []
   },
   "outputs": [],
   "source": [
    "result = hsp.ftlist?"
   ]
  },
  {
   "cell_type": "markdown",
   "id": "fbad497f-b6a8-43c4-9f37-8fabd904035f",
   "metadata": {},
   "source": [
    "For `ftlist`, there two required inputs: `infile` and `option`, so that both paramters need to be provided, otherwise, we will get prompted for the missing parameters"
   ]
  },
  {
   "cell_type": "code",
   "execution_count": null,
   "id": "8d082c34-0fa9-44d4-98e7-94da729ea626",
   "metadata": {},
   "outputs": [],
   "source": [
    "result = hsp.ftlist(infile='../tests/test.fits', option='T')"
   ]
  },
  {
   "cell_type": "markdown",
   "id": "91c0e293-e045-4fd1-9f49-b4667616ba4e",
   "metadata": {},
   "source": [
    "Running a task returns an `HSPResult` instance, which is a simple container for the results that contains:\n",
    "- `returncode`: a return code: 0 if the task executed without errors (int).\n",
    "- `stdout`: standard output (str).\n",
    "- `stderr`: standard error message (str).\n",
    "- `params`: dict of user parameters in case the task changed them, used to update the .par file.\n",
    "- `custom`: dict of any other variables to returned by the task.\n",
    "\n",
    "In this case, we may want to just print the output as:"
   ]
  },
  {
   "cell_type": "code",
   "execution_count": null,
   "id": "6a9baf68-843a-48fc-82c4-943a1a4a2854",
   "metadata": {
    "scrolled": true,
    "tags": []
   },
   "outputs": [],
   "source": [
    "print('return code:', result.returncode)\n",
    "print(result.stdout)"
   ]
  },
  {
   "cell_type": "markdown",
   "id": "c6d7e053-814c-4029-9a34-bc915c0b1387",
   "metadata": {},
   "source": [
    "A `returncode = 0` indicates the task executed without problems.\n",
    "\n",
    "We can print the content `result` to see all the returns of the task:"
   ]
  },
  {
   "cell_type": "code",
   "execution_count": null,
   "id": "7585a877-b4e2-41dd-93c2-0044bfa4a800",
   "metadata": {
    "scrolled": true,
    "tags": []
   },
   "outputs": [],
   "source": [
    "print(result)"
   ]
  },
  {
   "cell_type": "markdown",
   "id": "e285bae2-d9ae-4d89-8e4b-8c84e6f71df6",
   "metadata": {},
   "source": [
    "We can modify the parameters returned in results, and pass them again to the task.\n",
    "\n",
    "Say we want to print the column header:"
   ]
  },
  {
   "cell_type": "code",
   "execution_count": null,
   "id": "6d17247f-8d6b-41cb-bbcc-59d3399a3f95",
   "metadata": {
    "scrolled": true,
    "tags": []
   },
   "outputs": [],
   "source": [
    "params  = result.params\n",
    "params['colheader'] = 'yes'\n",
    "result2 = hsp.ftlist(params)\n",
    "\n",
    "print(result2.stdout)"
   ]
  },
  {
   "cell_type": "markdown",
   "id": "2b94edeb-d035-458e-b693-141b88ff6514",
   "metadata": {},
   "source": [
    "Notice how the column header is printed now!\n",
    "\n",
    "If we forget to pass a required parameter, we will be prompted for it. For example:"
   ]
  },
  {
   "cell_type": "code",
   "execution_count": null,
   "id": "234090a5-34c2-41e8-9bf6-08cc2b7f027a",
   "metadata": {},
   "outputs": [],
   "source": [
    "result = hsp.ftlist(infile='../tests/test.fits')"
   ]
  },
  {
   "cell_type": "markdown",
   "id": "c5b539c4-7e15-4bd9-831b-c6b62b1aaa60",
   "metadata": {},
   "source": [
    "In this case, parameter `filist:option` was missing, so we are prompted for it, and the default value is printed between brackets: `(T)`, we can type a value, just press Return to accept the default value.\n",
    "\n",
    "---\n",
    "For tasks that take longer to run, the user may be interested in the seeing the output as the task runs. There is a `verbose` option to print the output of the command similar to the standard output in command line tasks."
   ]
  },
  {
   "cell_type": "code",
   "execution_count": null,
   "id": "c557e1a5-74bc-4dd9-947c-9fa57532f961",
   "metadata": {
    "scrolled": true,
    "tags": []
   },
   "outputs": [],
   "source": [
    "result = hsp.ftlist(infile='../tests/test.fits', option='T', verbose=True)"
   ]
  },
  {
   "cell_type": "markdown",
   "id": "a9d6879f-714f-4582-9e4b-0cfe2f9539b1",
   "metadata": {},
   "source": [
    "---\n",
    "There is an alternative way to calling a task, and that is by creating an instance of `HSPTask` and calling it. For the example of `ftlist`, we would do:"
   ]
  },
  {
   "cell_type": "code",
   "execution_count": null,
   "id": "570efbc5-100b-420d-8cbf-234f4d00d39a",
   "metadata": {
    "scrolled": true,
    "tags": []
   },
   "outputs": [],
   "source": [
    "# create a task object\n",
    "ftlist = hsp.HSPTask('ftlist')"
   ]
  },
  {
   "cell_type": "markdown",
   "id": "a3ba4467-56ba-497c-97f0-8fc41d962116",
   "metadata": {},
   "source": [
    "the `ftlist` instance acts just like the function `hsp.ftlist` above."
   ]
  },
  {
   "cell_type": "code",
   "execution_count": null,
   "id": "0a48f61e-2df7-4b8c-9984-760780121241",
   "metadata": {
    "scrolled": true,
    "tags": []
   },
   "outputs": [],
   "source": [
    "# run the task\n",
    "out = ftlist(infile='../tests/test.fits', option='T')\n",
    "print(out.stdout)"
   ]
  },
  {
   "cell_type": "markdown",
   "id": "4ef4585a-b943-4aa9-b070-101d581ff068",
   "metadata": {},
   "source": [
    "The parameters of the task are attributes of the `HSPTask` object (called `ftlist` here), so they can be easily modified:"
   ]
  },
  {
   "cell_type": "code",
   "execution_count": null,
   "id": "ade82532-9128-43d9-b4f9-dec482e46651",
   "metadata": {
    "scrolled": true,
    "tags": []
   },
   "outputs": [],
   "source": [
    "ftlist.colheader = 'no'\n",
    "out = ftlist()\n",
    "print(out.stdout)"
   ]
  },
  {
   "cell_type": "markdown",
   "id": "d2466c03-a162-4376-a005-f1dc9162bc28",
   "metadata": {},
   "source": [
    "Note that the line `out = ftlist()` executes without querying for parameters because it uses parameters from the previous run, which are stored in `ftlist.params` and returned in `out.params`"
   ]
  },
  {
   "cell_type": "markdown",
   "id": "81ab5a7e-1193-4de4-aedd-be3d1ba4bd1d",
   "metadata": {},
   "source": [
    "---\n",
    "\n",
    "### Disable parameter query\n",
    "\n",
    "For some tasks, particularly pipelines, the user may want to runs the task without querying all the parameters. \n",
    "In that case, we can pass the `noprompt=True` when calling the task, and `heasoftpy` will run the task without\n",
    "checking the prameters. For example, to process the NuSTAR observation `60001111003`, we can do:\n",
    "\n",
    "```python\n",
    "r = hsp.nupipeline(indir='60001111003', outdir='60001111003_p', steminputs='nu60001111003', \n",
    "                   noprompt=True, verbose=True)\n",
    "```\n",
    "\n",
    "this will call `nupipeline` without querying all parameters (using the defaults), and printing all progress as it runs (`verbose=True`)"
   ]
  }
 ],
 "metadata": {
  "kernelspec": {
   "display_name": "Python 3 (ipykernel)",
   "language": "python",
   "name": "python3"
  },
  "language_info": {
   "codemirror_mode": {
    "name": "ipython",
    "version": 3
   },
   "file_extension": ".py",
   "mimetype": "text/x-python",
   "name": "python",
   "nbconvert_exporter": "python",
   "pygments_lexer": "ipython3",
   "version": "3.9.7"
  },
  "toc": {
   "base_numbering": 1,
   "nav_menu": {},
   "number_sections": false,
   "sideBar": true,
   "skip_h1_title": false,
   "title_cell": "Table of Contents",
   "title_sidebar": "Contents",
   "toc_cell": false,
   "toc_position": {},
   "toc_section_display": true,
   "toc_window_display": true
  },
  "varInspector": {
   "cols": {
    "lenName": 16,
    "lenType": 16,
    "lenVar": 40
   },
   "kernels_config": {
    "python": {
     "delete_cmd_postfix": "",
     "delete_cmd_prefix": "del ",
     "library": "var_list.py",
     "varRefreshCmd": "print(var_dic_list())"
    },
    "r": {
     "delete_cmd_postfix": ") ",
     "delete_cmd_prefix": "rm(",
     "library": "var_list.r",
     "varRefreshCmd": "cat(var_dic_list()) "
    }
   },
   "types_to_exclude": [
    "module",
    "function",
    "builtin_function_or_method",
    "instance",
    "_Feature"
   ],
   "window_display": false
  }
 },
 "nbformat": 4,
 "nbformat_minor": 5
}
