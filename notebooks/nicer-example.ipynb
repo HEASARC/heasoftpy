{
 "cells": [
  {
   "cell_type": "markdown",
   "id": "3c4d9f18",
   "metadata": {},
   "source": [
    "Versions:\n",
    "* 20231115 - updated to make consistent with NICERDAS 11a/HEASoft 6.32.1 (requires python version > 3.8)"
   ]
  },
  {
   "cell_type": "code",
   "execution_count": 1,
   "id": "74331f47",
   "metadata": {
    "init_cell": true
   },
   "outputs": [
    {
     "name": "stdout",
     "output_type": "stream",
     "text": [
      "Done with imports\n"
     ]
    }
   ],
   "source": [
    "import os\n",
    "os.environ['HEASOFTPYDIR']= os.path.split(os.getcwd())[0]\n",
    "\n",
    "import sys\n",
    "sys.path.insert(0,os.environ['HEASOFTPYDIR'])\n",
    "sys.path\n",
    "\n",
    "\n",
    "from matplotlib.pyplot import *\n",
    "import glob\n",
    "\n",
    "import heasoftpy as hsp\n",
    "import xspec\n",
    "\n",
    "from astropy.table import Table\n",
    "from astropy.time import Time\n",
    "from astropy.io import fits\n",
    "import astropy.units as u\n",
    "\n",
    "import warnings \n",
    "import astropy.utils as au\n",
    "warnings.filterwarnings('ignore', category=au.exceptions.AstropyWarning, append=True)\n",
    "\n",
    "\n",
    "print('Done with imports')"
   ]
  },
  {
   "cell_type": "markdown",
   "id": "6ce36357",
   "metadata": {},
   "source": [
    "# Setup\n",
    "\n",
    "First set up the NICER obsid directory\n",
    "\n",
    "We'll **assume** the user has downloaded the NICER observation directory for OBSID ``4142010107`` in a directory called ``~/tmp/nicer``\n",
    "\n",
    "The directory ``~/tmp/nicer/4142010107`` contains the ``xti``, ``auxil`` and ``hk`` directories containing the standard archived data for the observation\n"
   ]
  },
  {
   "cell_type": "code",
   "execution_count": 2,
   "id": "e3b7c3df",
   "metadata": {
    "init_cell": true
   },
   "outputs": [
    {
     "name": "stdout",
     "output_type": "stream",
     "text": [
      "Changing directory to /Users/mcorcora/tmp/nicer\n"
     ]
    }
   ],
   "source": [
    "cwd = os.getcwd()\n",
    "home = os.environ['HOME']\n",
    "nicerdatadir = os.path.join(home, 'tmp/nicer')\n",
    "print(f'Changing directory to {nicerdatadir}')\n",
    "os.chdir(nicerdatadir)"
   ]
  },
  {
   "cell_type": "markdown",
   "id": "068a8861",
   "metadata": {},
   "source": [
    "# Prepare NICER Data\n",
    "\n",
    "In this example we'll use the NICER ObsID 4142010107, an observation of Cyg X-3, and assume the ObsID directory from the <a href=\"https://heasarc.gsfc.nasa.gov/FTP/nicer/data/obs/2021_11/4142010107\">HEASARC NICER archive</a> has been copied to the ``nicerdatadir`` directory defined above.\n",
    "\n",
    "### Define output directory (``outdir``)"
   ]
  },
  {
   "cell_type": "code",
   "execution_count": 3,
   "id": "d3e3a5cf",
   "metadata": {},
   "outputs": [],
   "source": [
    "nicerobsID = '4142010107'\n",
    "obsdir = os.path.join(nicerdatadir, nicerobsID)\n",
    "\n",
    "# place cleaned output in a separate directory\n",
    "outdir =  os.path.join(os.environ['HOME'],'tmp/nicer/','nicerl2_output/'+nicerobsID+'_out')\n"
   ]
  },
  {
   "cell_type": "code",
   "execution_count": 4,
   "id": "49ea8e71",
   "metadata": {
    "init_cell": true
   },
   "outputs": [
    {
     "name": "stdout",
     "output_type": "stream",
     "text": [
      "Created /Users/mcorcora/tmp/nicer/nicerl2_output/4142010107_out\n",
      "Setting mkf file to /Users/mcorcora/tmp/nicer/nicerl2_output/4142010107_out/ni4142010107.mkf\n",
      "chmod u+w /Users/mcorcora/tmp/nicer/nicerl2_output/4142010107_out/ni4142010107.mkf*\n"
     ]
    }
   ],
   "source": [
    "# if outdir doesn't exist, create it\n",
    "if not os.path.exists(outdir):\n",
    "    os.makedirs(outdir)\n",
    "    print(f'Created {outdir}')\n",
    "mkf = os.path.join(obsdir,'auxil',f'ni{nicerobsID}.mkf')\n",
    "if os.path.exists(mkf):\n",
    "    # see if mkf is gzipped    \n",
    "    cmd = f'cp {mkf} {outdir}/.'\n",
    "    stat=os.system(cmd)\n",
    "    mkf = os.path.join(outdir, os.path.split(mkf)[1])\n",
    "    print(f'Setting mkf file to {mkf}')\n",
    "elif os.path.exists(mkf+'.gz'):\n",
    "    #try to copy gzipped mkf     \n",
    "    cmd = f'cp {mkf}.gz {outdir}/.'\n",
    "    print(cmd)\n",
    "    os.system(cmd)\n",
    "    mkf = os.path.join(outdir, os.path.split(mkf)[1])\n",
    "    print(f'Setting mkf file to {mkf}')\n",
    "cmd = f'chmod u+w {mkf}*'\n",
    "print(cmd)\n",
    "stat = os.system(cmd)"
   ]
  },
  {
   "cell_type": "markdown",
   "id": "91da94b0",
   "metadata": {},
   "source": [
    "# Geomagnetic data \n",
    "\n",
    "First, download the geomagnetic data (used to estimate background) using  ``nigeodown`` (see https://heasarc.gsfc.nasa.gov/docs/nicer/analysis_threads/geomag/)"
   ]
  },
  {
   "cell_type": "code",
   "execution_count": 5,
   "id": "500837d4",
   "metadata": {},
   "outputs": [
    {
     "name": "stdout",
     "output_type": "stream",
     "text": [
      "Successfully downloaded geomagnetic quantities to /Users/mcorcora/tmp/nicer/geomag\n"
     ]
    }
   ],
   "source": [
    "# set the GEOMAG_PATH environment variable\n",
    "\n",
    "os.environ['GEOMAG_PATH'] = os.path.join(nicerdatadir, 'geomag')\n",
    "\n",
    "nigeodown = hsp.HSPTask('nigeodown')\n",
    "res = nigeodown(clobber='yes')\n",
    "if res.returncode == 0:\n",
    "    print(f'Successfully downloaded geomagnetic quantities to {os.environ[\"GEOMAG_PATH\"]}')\n",
    "else:\n",
    "    print(f'Could not download geomag quantities to {os.environ[\"GEOMAG_PATH\"]}')\n",
    "    print(res.stdout)"
   ]
  },
  {
   "cell_type": "markdown",
   "id": "12b7c4cb",
   "metadata": {},
   "source": [
    "# Dating Processing\n",
    "\n",
    "Use ``nicerl2`` to process your NICER observation.  We'll put the output from nicerl2 in an output directory (``outdir``, defined above) separate from the input directory"
   ]
  },
  {
   "cell_type": "code",
   "execution_count": 6,
   "id": "b208ae68",
   "metadata": {},
   "outputs": [
    {
     "name": "stdout",
     "output_type": "stream",
     "text": [
      "Start nicerl2 at: 2023-12-05 20:14:16\n",
      "End at: 2023-12-05 20:15:59\n",
      "nicerl2 took: 103.5 seconds\n",
      "nicerl2 completed successfully\n"
     ]
    }
   ],
   "source": [
    "tstart = Time.now()\n",
    "print(f'Start nicerl2 at: {tstart.iso[:19]}')\n",
    "nicerl2 = hsp.HSPTask('nicerl2')\n",
    "\n",
    "nicerl2.clobber=\"yes\"\n",
    "# add the KP values to the mkf file during nicerl2 processing\n",
    "nicerl2.geomag_path=os.environ['GEOMAG_PATH']\n",
    "nicerl2.geomag_columns = 'FILTCOLUMNS'\n",
    "nicerl2.filtcolumns = 'NICERV5'\n",
    "\n",
    "resl2 = nicerl2(indir=nicerobsID, noprompt=True, cldir=outdir, mkfile=mkf)\n",
    "\n",
    "tend = Time.now()\n",
    "print(f'End at: {tend.iso[:19]}')\n",
    "print(f'nicerl2 took: {(tend.mjd-tstart.mjd)*86400:.1f} seconds')\n",
    "\n",
    "if resl2.returncode == 0:\n",
    "    print('nicerl2 completed successfully')\n",
    "else:\n",
    "    print('PROBLEM running nicerl2', end='\\n\\n')\n",
    "    print(resl2.output)\n"
   ]
  },
  {
   "cell_type": "markdown",
   "id": "98560cc1",
   "metadata": {},
   "source": [
    "# Extract Products\n",
    "\n",
    "The Recommended way to extract products from cleaned events file: use ``nicerl3-spect`` and ``nicerl3-lc``\n",
    "\n",
    "### Running ``nicerl3-spect``\n",
    "Use the ``scorpeon`` background model to create an estimated NICER background spectrum for the observation.  For simplicity we'll use the ``scorpeon`` model to create a background file that can be subtracted from the gross source spectrum"
   ]
  },
  {
   "cell_type": "code",
   "execution_count": 7,
   "id": "797644f3",
   "metadata": {},
   "outputs": [
    {
     "name": "stdout",
     "output_type": "stream",
     "text": [
      "Start nicerl3-spect at: 2023-12-05 20:14:16\n",
      "nicerl3-spect completed successfully\n"
     ]
    }
   ],
   "source": [
    "nicerl3spect = hsp.HSPTask('nicerl3-spect')\n",
    "\n",
    "nicerl3spect.cldir = outdir\n",
    "nicerl3spect.mkfile = mkf\n",
    "nicerl3spect.indir = outdir\n",
    "nicerl3spect.clobber = True\n",
    "nicerl3spect.bkgmodeltype  = 'scorpeon'\n",
    "nicerl3spect.format = 'file'\n",
    "nicerl3spect.bkgformat = 'file'\n",
    "\n",
    "print(f'Start nicerl3-spect at: {tstart.iso[:19]}')\n",
    "\n",
    "\n",
    "resl3s = nicerl3spect()\n",
    "if resl3s.returncode == 0:\n",
    "    print('nicerl3-spect completed successfully')\n",
    "else:\n",
    "    print('PROBLEM running nicerl3-spect', end='\\n\\n')\n",
    "    print(f'Return code = {resl3s.returncode}')\n",
    "    print(resl3s.stdout)\n"
   ]
  },
  {
   "cell_type": "markdown",
   "id": "4cf2a2cd",
   "metadata": {},
   "source": [
    "### Running ``nicerl3-lc``\n",
    "\n",
    "This creates a gross source lightcurve (no background subtraction) with a ``timebin = 10`` seconds in the PI channel range 30-800 (roughly 0.3 - 8 keV)."
   ]
  },
  {
   "cell_type": "code",
   "execution_count": 8,
   "id": "d3b5e5d6",
   "metadata": {},
   "outputs": [
    {
     "name": "stdout",
     "output_type": "stream",
     "text": [
      "Start nicerl3-lc at: 2023-12-05 20:14:16\n",
      "nicerl3-lc completed successfully\n"
     ]
    }
   ],
   "source": [
    "nicerl3lc = hsp.HSPTask('nicerl3-lc')\n",
    "\n",
    "nicerl3lc.indir = outdir\n",
    "nicerl3lc.cldir = outdir\n",
    "nicerl3lc.mkfile = mkf\n",
    "nicerl3lc.clobber = True\n",
    "nicerl3lc.bkgmodeltype  = 'scorpeon'\n",
    "nicerl3lc.format = 'script'\n",
    "nicerl3lc.pirange = '30:800'\n",
    "nicerl3lc.timebin = 10\n",
    "nicerl3lc.bkgmodeltype = 'sw'\n",
    "\n",
    "print(f'Start nicerl3-lc at: {tstart.iso[:19]}')\n",
    "\n",
    "resl3l = nicerl3lc()\n",
    "if resl3s.returncode == 0:\n",
    "    print('nicerl3-lc completed successfully')\n",
    "else:\n",
    "    print('PROBLEM running nicerl3-lc', end='\\n\\n')\n",
    "    print(f'Return code = {resl3l.returncode}', end='\\n\\n')\n",
    "    print(resl3l.stdout)\n"
   ]
  },
  {
   "cell_type": "markdown",
   "id": "a6067147",
   "metadata": {},
   "source": [
    "### Deprecated: using Extractor\n",
    "\n",
    "The use of ``extractor`` is no longer recommended since ``extractor`` does not handle cases of variation in  exposure times for individual FPMs"
   ]
  },
  {
   "cell_type": "raw",
   "id": "6daaa593",
   "metadata": {},
   "source": [
    "clevt = f'{outdir}/ni{nicerobsID}_0mpu7_cl.evt'\n",
    "phafile = f'{outdir}/ni{nicerobsID}_0mpu7_cl.pha'\n",
    "lcfile = f'{outdir}/ni{nicerobsID}_0mpu7_cl.lc'\n",
    "res = hsp.extractor(filename=clevt, phafile=phafile, clobber='yes', binlc=10.0,fitsbinlc=lcfile, \n",
    "                    eventsout='NONE', imgfile='NONE', regionfile='NONE', timefile='NONE', tcol='TIME',\n",
    "                   ecol='PI', xcolf='RAWX', xcolh='RAWX',ycolf='RAWY', ycolh='RAWY', )"
   ]
  },
  {
   "cell_type": "markdown",
   "id": "cc2d057c",
   "metadata": {},
   "source": [
    "# Analyzing NICER spectra"
   ]
  },
  {
   "cell_type": "code",
   "execution_count": 13,
   "id": "303dbcab",
   "metadata": {},
   "outputs": [
    {
     "name": "stdout",
     "output_type": "stream",
     "text": [
      "Changing directory to /Users/mcorcora/tmp/nicer/nicerl2_output/4142010107_out\n"
     ]
    }
   ],
   "source": [
    "# change directory to outputdir\n",
    "print(f'Changing directory to {outdir}')\n",
    "os.chdir(outdir)\n",
    "\n",
    "# get the rmf & arf\n",
    "rmf = f'ni{nicerobsID}mpu7.rmf'\n",
    "arf = f'ni{nicerobsID}mpu7.arf'\n",
    "\n",
    "# get the source (sr) and background (bg) spectra\n",
    "src = f'ni{nicerobsID}mpu7_sr.pha'\n",
    "bkg = f'ni{nicerobsID}mpu7_bg.pha'\n"
   ]
  },
  {
   "cell_type": "code",
   "execution_count": 14,
   "id": "01854354",
   "metadata": {},
   "outputs": [
    {
     "name": "stdout",
     "output_type": "stream",
     "text": [
      "\n",
      "1 spectrum  in use\n",
      " \n",
      "Spectral Data File: ni4142010107mpu7_sr.pha  Spectrum 1\n",
      "Net count rate (cts/s) for Spectrum:1  6.752e+02 +/- 1.347e+00\n",
      " Assigned to Data Group 1 and Plot Group 1\n",
      "  Noticed Channels:  1-186\n",
      "  Telescope: NICER Instrument: XTI  Channel Type: PI\n",
      "  Exposure Time: 1055 sec\n",
      " Using fit statistic: chi\n",
      " No response loaded.\n",
      "\n",
      "***Warning!  One or more spectra are missing responses,\n",
      "               and are not suitable for fit.\n",
      "Warning: RMF DETNAM keyword (99) is not consistent with that in spectrum (NONE)\n",
      "Response successfully loaded.\n",
      "\n",
      "Fit statistic  : Chi-Squared                271872.8     using 186 bins.\n",
      "\n",
      "Test statistic : Chi-Squared                271872.8     using 186 bins.\n",
      " Null hypothesis probability of 0.0e+00 with 181 degrees of freedom\n",
      " Current data and model not fit yet.\n",
      "Arf successfully loaded.\n",
      "\n",
      "Fit statistic  : Chi-Squared                12329.34     using 186 bins.\n",
      "\n",
      "Test statistic : Chi-Squared                12329.34     using 186 bins.\n",
      " Null hypothesis probability of 0.00e+00 with 181 degrees of freedom\n",
      " Current data and model not fit yet.\n",
      "Net count rate (cts/s) for Spectrum:1  6.741e+02 +/- 1.347e+00 (99.8 % total)\n",
      "\n",
      "Fit statistic  : Chi-Squared                12801.89     using 186 bins.\n",
      "\n",
      "Test statistic : Chi-Squared                12801.89     using 186 bins.\n",
      " Null hypothesis probability of 0.00e+00 with 181 degrees of freedom\n",
      " Current data and model not fit yet.\n",
      "     2 channels (1-2) ignored in spectrum #     1\n",
      "    34 channels (153-186) ignored in spectrum #     1\n",
      "\n",
      "Fit statistic  : Chi-Squared                11105.11     using 150 bins.\n",
      "\n",
      "Test statistic : Chi-Squared                11105.11     using 150 bins.\n",
      " Null hypothesis probability of 0.00e+00 with 145 degrees of freedom\n",
      " Current data and model not fit yet.\n",
      "\n"
     ]
    }
   ],
   "source": [
    "xspec.AllData.clear()\n",
    "spec = xspec.Spectrum(src)\n",
    "spec.response = rmf\n",
    "spec.response.arf = arf\n",
    "spec.background = bkg\n",
    "spec.ignore('0.0-0.3, 10.0-**')"
   ]
  },
  {
   "cell_type": "code",
   "execution_count": 15,
   "id": "9aeabbab",
   "metadata": {
    "scrolled": true
   },
   "outputs": [
    {
     "name": "stdout",
     "output_type": "stream",
     "text": [
      "\n",
      "========================================================================\n",
      "Model wabs<1>*bknpower<2> Source No.: 1   Active/On\n",
      "Model Model Component  Parameter  Unit     Value\n",
      " par  comp\n",
      "   1    1   wabs       nH         10^22    1.00000      +/-  0.0          \n",
      "   2    2   bknpower   PhoIndx1            1.00000      +/-  0.0          \n",
      "   3    2   bknpower   BreakE     keV      5.00000      +/-  0.0          \n",
      "   4    2   bknpower   PhoIndx2            2.00000      +/-  0.0          \n",
      "   5    2   bknpower   norm                1.00000      +/-  0.0          \n",
      "________________________________________________________________________\n",
      "\n",
      "\n",
      "Fit statistic  : Chi-Squared              4.289417e+06     using 150 bins.\n",
      "\n",
      "Test statistic : Chi-Squared              4.289417e+06     using 150 bins.\n",
      " Null hypothesis probability of 0.000000e+00 with 145 degrees of freedom\n",
      " Current data and model not fit yet.\n",
      "                                   Parameters\n",
      "Chi-Squared  |beta|/N    Lvl          1:nH    2:PhoIndx1      3:BreakE    4:PhoIndx2        5:norm\n",
      "175913       13032.2       0       1.20793     -0.116042       12.9726       1.16371      0.110789\n",
      "96312.3      281150       -1       1.52725      0.164507       4797.87       7.08821      0.126381\n",
      "***Warning: Zero alpha-matrix diagonal element for parameter 3\n",
      "***Warning: Zero alpha-matrix diagonal element for parameter 4\n",
      " Parameter 3 is pegged at 4797.87 due to zero or negative pivot element, likely\n",
      " caused by the fit being insensitive to the parameter.\n",
      " Parameter 4 is pegged at 7.08821 due to zero or negative pivot element, likely\n",
      " caused by the fit being insensitive to the parameter.\n",
      "80089.8      17189.8      -1       1.92508      0.449464       4797.87       7.08821      0.185678\n",
      "65174.8      48345.1      -1       2.34485      0.698647       4797.87       7.08821      0.297831\n",
      "50640.5      37572.3      -1       2.72095      0.901614       4797.87       7.08821      0.462751\n",
      "39629.4      22595.2      -1       3.04770       1.06746       4797.87       7.08821      0.667289\n",
      "32040.7      13009.3      -1       3.33693       1.20631       4797.87       7.08821      0.897934\n",
      "26783.4      7677.02      -1       3.59539       1.32454       4797.87       7.08821       1.14582\n",
      "23041.9      4717.55      -1       3.82713       1.42618       4797.87       7.08821       1.40468\n",
      "Number of trials exceeded: continue fitting? 20314.1      3007.35      -1       4.03518       1.51418       4797.87       7.08821       1.66944\n",
      "19898        1976.03      -2       4.89001       1.89366       4797.87       7.08821       2.83264\n",
      "17519.9      15156.7      -3       5.75888       2.20199       4797.87       7.08821       4.94179\n",
      "11138.4      15222.6      -4       5.95234       2.22015       4797.87       7.08821       6.12486\n",
      "11106.4      1006.93      -5       6.02055       2.24330       4797.87       7.08821       6.43256\n",
      "11105.2      174.38       -6       6.03401       2.24483       4797.87       7.08821       6.46653\n",
      "11105.1      8.04494      -7       6.03996       2.24635       4797.87       7.08821       6.48543\n",
      "11105.1      4.17347      -8       6.04168       2.24669       4797.87       7.08821       6.49004\n",
      "11105.1      1.03127      -9       6.04229       2.24683       4797.87       7.08821       6.49182\n",
      "***Warning: Zero alpha-matrix diagonal element for parameter 3\n",
      "***Warning: Zero alpha-matrix diagonal element for parameter 4\n",
      " Parameter 3 is pegged at 4797.87 due to zero or negative pivot element, likely\n",
      " caused by the fit being insensitive to the parameter.\n",
      " Parameter 4 is pegged at 7.08821 due to zero or negative pivot element, likely\n",
      " caused by the fit being insensitive to the parameter.\n",
      "11105.1      0.376144     -3       6.04247       2.24686       4797.87       7.08821       6.49232\n",
      "========================================\n",
      " Variances and Principal Axes\n",
      "                 1        2        5  \n",
      " 2.0319E-06| -0.0789  -0.9912   0.1062  \n",
      " 9.3237E-05|  0.9706  -0.1007  -0.2188  \n",
      " 9.5768E-03|  0.2276   0.0858   0.9700  \n",
      "----------------------------------------\n",
      "\n",
      "====================================\n",
      "  Covariance Matrix\n",
      "        1           2           3   \n",
      "   5.839e-04   1.781e-04   2.094e-03\n",
      "   1.781e-04   7.345e-05   7.989e-04\n",
      "   2.094e-03   7.989e-04   9.015e-03\n",
      "------------------------------------\n",
      "\n",
      "========================================================================\n",
      "Model wabs<1>*bknpower<2> Source No.: 1   Active/On\n",
      "Model Model Component  Parameter  Unit     Value\n",
      " par  comp\n",
      "   1    1   wabs       nH         10^22    6.04247      +/-  2.41632E-02  \n",
      "   2    2   bknpower   PhoIndx1            2.24686      +/-  8.57014E-03  \n",
      "   3    2   bknpower   BreakE     keV      4797.87      +/-  -1.00000     \n",
      "   4    2   bknpower   PhoIndx2            7.08821      +/-  -1.00000     \n",
      "   5    2   bknpower   norm                6.49232      +/-  9.49464E-02  \n",
      "________________________________________________________________________\n",
      "\n",
      "\n",
      "Fit statistic  : Chi-Squared                11105.11     using 150 bins.\n",
      "\n",
      "Test statistic : Chi-Squared                11105.11     using 150 bins.\n",
      " Null hypothesis probability of 0.00e+00 with 145 degrees of freedom\n"
     ]
    }
   ],
   "source": [
    "# define a simple model and fit it to the data\n",
    "\n",
    "model = xspec.Model('wabs*bknpow')\n",
    "#xspec.Fit.nIterations = 30\n",
    "\n",
    "xspec.Fit.perform()"
   ]
  },
  {
   "cell_type": "code",
   "execution_count": 16,
   "id": "74e40ae9",
   "metadata": {},
   "outputs": [
    {
     "data": {
      "text/plain": [
       "[<matplotlib.lines.Line2D at 0x157367a50>]"
      ]
     },
     "execution_count": 16,
     "metadata": {},
     "output_type": "execute_result"
    },
    {
     "data": {
      "image/png": "[encoded data removed]",
      "text/plain": [
       "<Figure size 800x600 with 1 Axes>"
      ]
     },
     "metadata": {},
     "output_type": "display_data"
    }
   ],
   "source": [
    "%matplotlib inline\n",
    "xspec.Plot.device='/null'\n",
    "xspec.Plot.xAxis='keV'\n",
    "xspec.Plot('lda')\n",
    "cr=xspec.Plot.y()\n",
    "crerr = xspec.Plot.yErr()\n",
    "en = xspec.Plot.x()\n",
    "enwid = xspec.Plot.xErr()\n",
    "mop = xspec.Plot.model()\n",
    "target = fits.open(spec.fileName)[1].header['OBJECT']\n",
    "\n",
    "\n",
    "fig = figure(figsize=[8,6])\n",
    "ylabel('Cts/s/keV', fontsize=12)\n",
    "xlabel('Energy (keV)', fontsize=12)\n",
    "title('Target = '+target+' OBSID = '+nicerobsID+' wabs*bknpow', fontsize=12)\n",
    "yscale('log')\n",
    "xscale('log')\n",
    "errorbar(en, cr, xerr=enwid, yerr=crerr, fmt='k.', alpha=0.2)\n",
    "plot(en, mop,'r-')"
   ]
  },
  {
   "cell_type": "markdown",
   "id": "963b5e01",
   "metadata": {},
   "source": [
    "# Plot the lightcurve"
   ]
  },
  {
   "cell_type": "code",
   "execution_count": 17,
   "id": "c04c0562",
   "metadata": {},
   "outputs": [
    {
     "data": {
      "image/png": "[encoded data removed]",
      "text/plain": [
       "<Figure size 640x480 with 1 Axes>"
      ]
     },
     "metadata": {},
     "output_type": "display_data"
    }
   ],
   "source": [
    "%matplotlib inline\n",
    "\n",
    "lcfile = f'ni{nicerobsID}mpu7_sr.lc'\n",
    "lcbkgfile = f'ni{nicerobsID}mpu7_bg.lc'\n",
    "lctab = Table.read(lcfile,hdu='RATE')\n",
    "\n",
    "#fig =subplots(1,1,figsize=[10,6])\n",
    "plot(lctab['TIME'], lctab['RATE'],'.')\n",
    "tmp = xlabel(f\"MET - {lctab.meta['TSTART']}\")\n",
    "tmp = ylabel('Counts/s/52FPM')"
   ]
  },
  {
   "cell_type": "code",
   "execution_count": null,
   "id": "fd1994b3",
   "metadata": {},
   "outputs": [],
   "source": []
  }
 ],
 "metadata": {
  "celltoolbar": "Initialization Cell",
  "kernelspec": {
   "display_name": "Python 3 (ipykernel)",
   "language": "python",
   "name": "python3"
  },
  "language_info": {
   "codemirror_mode": {
    "name": "ipython",
    "version": 3
   },
   "file_extension": ".py",
   "mimetype": "text/x-python",
   "name": "python",
   "nbconvert_exporter": "python",
   "pygments_lexer": "ipython3",
   "version": "3.11.6"
  },
  "toc": {
   "base_numbering": 1,
   "nav_menu": {},
   "number_sections": false,
   "sideBar": true,
   "skip_h1_title": false,
   "title_cell": "Table of Contents",
   "title_sidebar": "Contents",
   "toc_cell": false,
   "toc_position": {
    "height": "calc(100% - 180px)",
    "left": "10px",
    "top": "150px",
    "width": "310px"
   },
   "toc_section_display": true,
   "toc_window_display": true
  },
  "varInspector": {
   "cols": {
    "lenName": 16,
    "lenType": 16,
    "lenVar": 40
   },
   "kernels_config": {
    "python": {
     "delete_cmd_postfix": "",
     "delete_cmd_prefix": "del ",
     "library": "var_list.py",
     "varRefreshCmd": "print(var_dic_list())"
    },
    "r": {
     "delete_cmd_postfix": ") ",
     "delete_cmd_prefix": "rm(",
     "library": "var_list.r",
     "varRefreshCmd": "cat(var_dic_list()) "
    }
   },
   "types_to_exclude": [
    "module",
    "function",
    "builtin_function_or_method",
    "instance",
    "_Feature"
   ],
   "window_display": false
  }
 },
 "nbformat": 4,
 "nbformat_minor": 5
}
