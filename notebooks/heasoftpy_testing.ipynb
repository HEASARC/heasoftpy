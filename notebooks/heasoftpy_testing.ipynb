{
 "cells": [
  {
   "cell_type": "code",
   "execution_count": 1,
   "metadata": {
    "run_control": {
     "marked": true
    }
   },
   "outputs": [],
   "source": [
    "import os\n",
    "import sys\n",
    "from importlib import reload\n",
    "from timeit import timeit\n",
    "\n",
    "## This should then somehow be done internally in heasoftpy, right?  Otherwise \n",
    "##  none of the below works for me.  If I don't do this, then I get:\n",
    "##  \n",
    "##  ERROR: Device not configured\n",
    "##  Task ftverify 0.0 terminating with status 6\n",
    "##  Unable to redirect prompts to the /dev/tty (at headas_stdio.c:152)\n",
    "##  \n",
    "os.environ[\"HEADASNOQUERY\"]=\"True\""
   ]
  },
  {
   "cell_type": "markdown",
   "metadata": {},
   "source": [
    "# General comments\n",
    "\n",
    "* how to capture output for use in further analysis in python?\n",
    "* how to work in a notebook? (STDOUT, STDERR issue?)\n",
    " * these get returned into the results.STDOUT and results.STDERR attributes\n",
    "* how to include tools which have no parameter files (i.e. perl tools like ``nicertimeconv``)\n",
    "* docstrings and other documentation\n",
    "* parameter handling:\n",
    " * take parameter values from the user pfile or system pfile?  \n",
    " * allow user to set the pfiles directory?\n",
    " * use ``overwrite_pfiles = False`` (or ``batchmode = True``) switch (to keep tasks from updating the user's pfiles) for batch use\n",
    " * prompt for inputs if input missing (if no keyword arguments specified)\n",
    " * **are there security issues** with passing parameters to the python functions?\n",
    " * **note** all parameters are passed as strings, which should minimize (eliminate?) security issues when running through subprocess\n",
    "* ``import heasoftpY`` results in creation of the heasoft functions in the ``heasoftpy`` directory, which is messy - move to a subdirectory\n",
    " * what happens if someone does ``fdump(infile = \"test.fits\" clobber=True \";\\ls -l\")`` - would the shell command run?\n",
    "* how does the speed of the wrapped functions compare to plain ftools?\n",
    "* prompt for non-optional parameters?\n",
    " \n",
    "\n",
    "# Decisions\n",
    "We decided to use the write_fns type of function creation.  Now we can simply ``import heasoftpy as h`` and run (for example) ``h.fdump(infile='test.fits')``"
   ]
  },
  {
   "cell_type": "code",
   "execution_count": 2,
   "metadata": {},
   "outputs": [],
   "source": [
    "import heasoftpy as h"
   ]
  },
  {
   "cell_type": "code",
   "execution_count": 4,
   "metadata": {},
   "outputs": [],
   "source": [
    "h.quzcif?"
   ]
  },
  {
   "cell_type": "markdown",
   "metadata": {},
   "source": [
    "# Time Test"
   ]
  },
  {
   "cell_type": "code",
   "execution_count": 54,
   "metadata": {},
   "outputs": [
    {
     "name": "stdout",
     "output_type": "stream",
     "text": [
      "import write_fns as wtf; \n",
      "a=wtf.fdump(infile=\"/HEA_dev/asdgit/heasoftpy/tmp/testdata/2626010301/auxil/ni2626010301.mkf3\", page=\"no\", outfile=\"STDOUT\", rows=\"10\", columns=\"-\")\n",
      "This execution took 0.042 seconds\n",
      "\n",
      "Command Line Execution of \n",
      "% time fdump 2626010301/auxil/ni2626010301.mkf3 page=no outfile=\"STDOUT\" rows=10 columns=\"-\" was 0.014s\n",
      "\n",
      "heasoftpy was a factor of 2.9 slower\n"
     ]
    }
   ],
   "source": [
    "infile = os.path.join('/HEA_dev/asdgit/heasoftpy/tmp/testdata/2626010301/auxil','ni2626010301.mkf3')\n",
    "stmt=f'import write_fns as wtf; \\na=wtf.fdump(infile=\"{infile}\", page=\"no\", outfile=\"STDOUT\", rows=\"10\", columns=\"-\")'\n",
    "print(stmt)\n",
    "\n",
    "\n",
    "a=wtf.fdump(infile=\"/HEA_dev/asdgit/heasoftpy/tmp/testdata/2626010301/auxil/ni2626010301.mkf3\", page=\"no\", outfile=\"STDOUT\", rows=\"10\", columns=\"-\")\n",
    "t = timeit(stmt=stmt, number=1)\n",
    "print(f\"This execution took {t:.3f} seconds\")\n",
    "cmdline = '% time fdump 2626010301/auxil/ni2626010301.mkf3 page=no outfile=\"STDOUT\" rows=10 columns=\"-\"'\n",
    "print(f\"\\nCommand Line Execution of \")\n",
    "print(f\"{cmdline} was 0.014s\")\n",
    "\n",
    "print(f\"\\nheasoftpy was a factor of {0.041/0.014:.1f} slower\")"
   ]
  },
  {
   "cell_type": "markdown",
   "metadata": {},
   "source": [
    "# Older Stuff"
   ]
  },
  {
   "cell_type": "markdown",
   "metadata": {},
   "source": [
    "# ``write_fns`` Package test\n",
    "\n",
    "Advantages\n",
    "* straightforward/fast to create functions on import\n",
    "* allows use the capability of using the defined functions as templates for further analysis\n",
    "\n",
    "Disadvantages\n",
    "* will it continue to try to create functions if function creation fails initially?"
   ]
  },
  {
   "cell_type": "code",
   "execution_count": 2,
   "metadata": {},
   "outputs": [],
   "source": [
    "import write_fns as wtf"
   ]
  },
  {
   "cell_type": "code",
   "execution_count": 52,
   "metadata": {},
   "outputs": [
    {
     "name": "stdout",
     "output_type": "stream",
     "text": [
      "\n"
     ]
    }
   ],
   "source": [
    "a = wtf.fhelp(task=\"fdump\", online=\"no\")\n",
    "print(a)"
   ]
  },
  {
   "cell_type": "code",
   "execution_count": 2,
   "metadata": {},
   "outputs": [
    {
     "ename": "NameError",
     "evalue": "name 'wtf' is not defined",
     "output_type": "error",
     "traceback": [
      "\u001b[0;31m---------------------------------------------------------------------------\u001b[0m",
      "\u001b[0;31mNameError\u001b[0m                                 Traceback (most recent call last)",
      "\u001b[0;32m<ipython-input-2-a2daa2024549>\u001b[0m in \u001b[0;36m<module>\u001b[0;34m\u001b[0m\n\u001b[0;32m----> 1\u001b[0;31m \u001b[0ma\u001b[0m\u001b[0;34m=\u001b[0m\u001b[0mwtf\u001b[0m\u001b[0;34m.\u001b[0m\u001b[0mfdump\u001b[0m\u001b[0;34m(\u001b[0m\u001b[0minfile\u001b[0m\u001b[0;34m=\u001b[0m\u001b[0;34m\"/HEA_dev/asdgit/heasoftpy/tmp/testdata/2626010301/auxil/ni2626010301.mkf3\"\u001b[0m\u001b[0;34m)\u001b[0m\u001b[0;34m\u001b[0m\u001b[0;34m\u001b[0m\u001b[0m\n\u001b[0m",
      "\u001b[0;31mNameError\u001b[0m: name 'wtf' is not defined"
     ]
    }
   ],
   "source": [
    "a=wtf.fdump(infile=\"/HEA_dev/asdgit/heasoftpy/tmp/testdata/2626010301/auxil/ni2626010301.mkf3\")"
   ]
  },
  {
   "cell_type": "code",
   "execution_count": 29,
   "metadata": {},
   "outputs": [],
   "source": [
    "wtf.fdump?"
   ]
  },
  {
   "cell_type": "code",
   "execution_count": 55,
   "metadata": {},
   "outputs": [
    {
     "data": {
      "text/plain": [
       "\"SIMPLE  =                    T / conforms to FITS standard\\nBITPIX  =                    8 / array data type\\nNAXIS   =                    0 / number of array dimensions\\nEXTEND  =                    T\\nEND\\n \\nXTENSION= 'BINTABLE'           / binary table extension\\nBITPIX  =                    8 / array data type\\nNAXIS   =                    2 / number of array dimensions\\nNAXIS1  =                 3138 / length of dimension 1\\nNAXIS2  =                 2317 / length of dimension 2\\nPCOUNT  =                    0 / number of group parameters\\nGCOUNT  =                    1 / number of groups\\nTFIELDS =                   96 / number of table fields\\nEXTNAME = 'PREFILTER'          / binary extension contains filter data\\nDATE-OBS= '2019-04-18T23:46:00' / Start date of observations\\nTIME-OBS= '23:45:59'           / Start time for data\\nDATE-END= '2019-04-19T00:24:40' / End date of observations\\nTIME-END= '00:24:40'           / End time for data\\nTSTART  =           167096762. / As in the TIME column\\nTSTOP   =           167099082. / As in the TIME column\\nDELTAT  =                   1. / Interval between records [s]\\nRA_NOM  =             305.1184 / [deg] R.A. of nominal aspect point [J2000]\\nDEC_NOM =             43.85282 / [deg] Dec. of nominal aspect point [J2000]\\nTELESCOP= 'NICER   '           / Telescope (mission) name\\nTIMESYS = 'TT      '           / Reference time system\\nTIMEZERO=                 -1.0 / NICER Level2 calibrated TIMEZERO\\nTIMEUNIT= 's       '           / unit for time keywords\\nMJDREFI =                56658 /  [d] MJD reference day (2014-01-01T00:00:00)\\nMJDREFF = 0.000777592592592593 / [d] MJD reference (fraction of day)\\nEQUINOX =                2000. / [yr] Equinox of celestial coord system\\nRADECSYS= 'FK5     '           / celestial coord system\\nCREATOR = 'PREFILTER v3.5'     / file creator\\nORIGIN  = 'NASA/GSFC'          / file creation location\\nDATE    = '2019-04-23T17:31:26' / file creation date (YYYY-MM-DDThh:mm:ss UT)\\nCHECKSUM= 'AH97BF76AF76AF76'   / HDU checksum updated 2019-04-23T17:32:11\\nDATASUM = '642231424'          / data unit checksum updated 2019-04-23T17:32:11\\nHISTORY\\nHISTORY START PARAMETER list for prefilter_PREFILTER v3.5 at 2019-04-23T17:31:26\\nHISTORY\\nHISTORY P1 outname = ./2626010301/auxil/ni2626010301.mkf\\nHISTORY P2 columns = ALL\\nHISTORY P3 orbmode = XTE\\nHISTORY P4 orbname = ./2626010301/auxil/ni2626010301.orb\\nHISTORY P5 attname = ./2626010301/auxil/ni2626010301.att\\nHISTORY P6 alignfile = /home/dtsops/caldb/prod/data/nicer/xti/bcf/pntmis/nixtipn\\nHISTORY P6 tmis20170601v001.teldef\\nHISTORY P7 leapname = /home/dtsops/tools/prod/heasoft/heasoft-git/x86_64-pc-linu\\nHISTORY P7 x-gnu-libc2.17/refdata/leapsec.fits\\nHISTORY P8 rigname = /home/dtsops/tools/prod/heasoft/heasoft-git/x86_64-pc-linux\\nHISTORY P8 -gnu-libc2.17/refdata/rigidity.data\\nHISTORY P9 start = 167096762\\nHISTORY P10 end = 167099082\\nHISTORY P11 interval = 1\\nHISTORY P12 attextrap = 32.0\\nHISTORY P13 origin = NASA/GSFC\\nHISTORY P14 ranom = 305.1166\\nHISTORY P15 decnom = 43.8545\\nHISTORY P16 missepoch = 2014-01-01T00:00:00\\nHISTORY P17 timeadj = DEFAULT\\nHISTORY P18 compcols = TIME\\nHISTORY P19 compapplyquat = no\\nHISTORY P20 chatter = 3\\nHISTORY P21 clobber = YES\\nHISTORY P22 history = yes\\nHISTORY P23 mode = ql\\nHISTORY END PARAMETER list for prefilter_PREFILTER v3.5\\nHISTORY\\nSAAREGFL= 'ni2626010301.mkf_saa.reg' / NICER_SAA region file\\nOBSERVER= 'CORCORAN, MICHAEL'  / Observer or Principal Investigator\\nTITLE   = 'NICER OBSERVATIONS OF THE X-RAY COLLIDING WIND LABORATORY, WR 140'\\nRA_OBJ  =             305.1166 / [deg] R.A. of target [J2000]\\nDEC_OBJ =             43.85453 / [deg] Dec. of target [J2000]\\nOBS_ID  = '2626010301'         / Observation ID\\nTARG_ID =                 6167 / NICER target catalog ID number\\nSEQPNUM =                    2 / Number of times the dataset processed\\nOBJECT  = 'WR_140  '           / Object/target name\\nPROCVER = 'l0-master_20190312' / Processing script version number\\nSOFTVER = 'Hea_22Oct2018_V6.25_NICER_2019-03-04_V005b' / HEASoft software versio\\nCALDBVER= 'xti20181105'        / CALDB index versions used\\nTLM2FITS= 'NICER2FITSv1.25_FSWv20170404a' / Telemetry converter version number\\nLEAPINIT=                    2 / [s] Leap seconds between MJDREF and TSTART\\nVEHFILE = 'nixtisoyuz20170601v003.fits[1]' / Vehicle docking file\\nNIMKFLEV=                    2 / NICER Level2 MKF product\\nTTYPE1  = 'TIME    '\\nTFORM1  = '1D      '\\nTUNIT1  = 's       '\\nTDISP1  = 'F20.6   '\\nTTYPE2  = 'POSITION'\\nTFORM2  = '3E      '\\nTUNIT2  = 'km      '\\nTDISP2  = 'F10.3   '\\nTTYPE3  = 'VELOCITY'\\nTFORM3  = '3E      '\\nTUNIT3  = 'km/s    '\\nTDISP3  = 'F10.3   '\\nTTYPE4  = 'QUATERNION'\\nTFORM4  = '4E      '\\nTDISP4  = 'F12.8   '\\nTTYPE5  = 'PNTUNIT '\\nTFORM5  = '3E      '\\nTDISP5  = 'F12.8   '\\nTTYPE6  = 'POLAR   '\\nTFORM6  = '3E      '\\nTUNIT6  = 'rad, rad, km'\\nTTYPE7  = 'RA      '\\nTFORM7  = '1E      '\\nTUNIT7  = 'deg     '\\nTDISP7  = 'F10.6   '\\nTTYPE8  = 'DEC     '\\nTFORM8  = '1E      '\\nTUNIT8  = 'deg     '\\nTDISP8  = 'F10.6   '\\nTTYPE9  = 'ROLL    '\\nTFORM9  = '1E      '\\nTUNIT9  = 'deg     '\\nTDISP9  = 'F6.2    '\\nTTYPE10 = 'SAT_LAT '\\nTFORM10 = '1E      '\\nTUNIT10 = 'deg     '\\nTDISP10 = 'F8.4    '\\nTTYPE11 = 'SAT_LON '\\nTFORM11 = '1E      '\\nTUNIT11 = 'deg     '\\nTDISP11 = 'F8.4    '\\nTTYPE12 = 'SAT_ALT '\\nTFORM12 = '1E      '\\nTUNIT12 = 'km      '\\nTDISP12 = 'F10.3   '\\nTTYPE13 = 'ELV     '\\nTFORM13 = '1E      '\\nTUNIT13 = 'deg     '\\nTDISP13 = 'F7.2    '\\nTTYPE14 = 'BR_EARTH'\\nTFORM14 = '1E      '\\nTUNIT14 = 'deg     '\\nTDISP14 = 'F8.2    '\\nTTYPE15 = 'SUNSHINE'\\nTFORM15 = '1I      '\\nTTYPE16 = 'FOV_FLAG'\\nTFORM16 = '1I      '\\nTNULL16 =                 -999\\nTTYPE17 = 'SUN_ANGLE'\\nTFORM17 = '1E      '\\nTUNIT17 = 'deg     '\\nTDISP17 = 'F8.2    '\\nTTYPE18 = 'MOON_ANGLE'\\nTFORM18 = '1E      '\\nTUNIT18 = 'deg     '\\nTDISP18 = 'F8.2    '\\nTTYPE19 = 'RAM_ANGLE'\\nTFORM19 = '1E      '\\nTUNIT19 = 'deg     '\\nTDISP19 = 'F8.2    '\\nTTYPE20 = 'ANG_DIST'\\nTFORM20 = '1E      '\\nTUNIT20 = 'deg     '\\nTDISP20 = 'F10.4   '\\nTTYPE21 = 'SAA     '\\nTFORM21 = '1I      '\\nTTYPE22 = 'SAA_TIME'\\nTFORM22 = '1E      '\\nTUNIT22 = 's       '\\nTTYPE23 = 'COR_ASCA'\\nTFORM23 = '1E      '\\nTUNIT23 = 'GeV/c   '\\nTDISP23 = 'F6.2    '\\nTTYPE24 = 'COR_SAX '\\nTFORM24 = '1E      '\\nTUNIT24 = 'GeV/c   '\\nTDISP24 = 'F6.2    '\\nTTYPE25 = 'MCILWAIN_L'\\nTFORM25 = '1E      '\\nTDISP25 = 'F6.2    '\\nTTYPE26 = 'SUN_RA  '\\nTFORM26 = '1E      '\\nTUNIT26 = 'deg     '\\nTDISP26 = 'F10.6   '\\nTTYPE27 = 'SUN_DEC '\\nTFORM27 = '1E      '\\nTUNIT27 = 'deg     '\\nTDISP27 = 'F10.6   '\\nTTYPE28 = 'MOON_RA '\\nTFORM28 = '1E      '\\nTUNIT28 = 'deg     '\\nTDISP28 = 'F10.6   '\\nTTYPE29 = 'MOON_DEC'\\nTFORM29 = '1E      '\\nTUNIT29 = 'deg     '\\nTDISP29 = 'F10.6   '\\nTTYPE30 = 'EARTH_RA'\\nTFORM30 = '1E      '\\nTUNIT30 = 'deg     '\\nTDISP30 = 'F10.6   '\\nTTYPE31 = 'EARTH_DEC'\\nTFORM31 = '1E      '\\nTUNIT31 = 'deg     '\\nTDISP31 = 'F10.6   '\\nTTYPE32 = 'TIME_ADJ'\\nTFORM32 = '1D      '\\nTUNIT32 = 's       '\\nTTYPE33 = 'ST_BBO  '\\nTFORM33 = '1B      '\\nTNULL33 =                  254\\nTTYPE34 = 'ST_VALID'\\nTFORM34 = '1B      '\\nTNULL34 =                  254\\nTTYPE35 = 'ST_OBJECTS'\\nTFORM35 = '1B      '\\nTNULL35 =                  254\\nTTYPE36 = 'ST_VIDEO_VDC'\\nTFORM36 = '1B      '\\nTUNIT36 = 'V       '\\nTNULL36 =                  254\\nTSCAL36 =           0.01953125\\nTZERO36 =                  0.1\\nTDISP36 = 'F6.3    '\\nTTYPE37 = 'ATT_ANG_AZ'\\nTFORM37 = '1D      '\\nTUNIT37 = 'deg     '\\nTSCAL37 =           57.2957795\\nTDISP37 = 'F10.5   '\\nTTYPE38 = 'ATT_ANG_EL'\\nTFORM38 = '1D      '\\nTUNIT38 = 'deg     '\\nTSCAL38 =           57.2957795\\nTDISP38 = 'F10.5   '\\nTTYPE39 = 'RA_CMD  '\\nTFORM39 = '1D      '\\nTUNIT39 = 'deg     '\\nTSCAL39 =           57.2957795\\nTDISP39 = 'F10.5   '\\nTTYPE40 = 'DEC_CMD '\\nTFORM40 = '1D      '\\nTUNIT40 = 'deg     '\\nTSCAL40 =           57.2957795\\nTDISP40 = 'F10.5   '\\nTTYPE41 = 'ATT_ERR_AZ'\\nTFORM41 = '1D      '\\nTUNIT41 = 'deg     '\\nTSCAL41 =           57.2957795\\nTDISP41 = 'F10.5   '\\nTTYPE42 = 'ATT_ERR_EL'\\nTFORM42 = '1D      '\\nTUNIT42 = 'deg     '\\nTSCAL42 =           57.2957795\\nTDISP42 = 'F10.5   '\\nTTYPE43 = 'ATT_STATE'\\nTFORM43 = '1B      '\\nTNULL43 =                  254\\nTTYPE44 = 'ATT_MODE'\\nTFORM44 = '1B      '\\nTNULL44 =                  254\\nTTYPE45 = 'ATT_SUBMODE_AZ'\\nTFORM45 = '1B      '\\nTNULL45 =                  254\\nTTYPE46 = 'ATT_SUBMODE_EL'\\nTFORM46 = '1B      '\\nTNULL46 =                  254\\nTTYPE47 = 'TARG_CMD'\\nTFORM47 = '1I      '\\nTZERO47 =                32768\\nTTYPE48 = 'PPS_SOURCE'\\nTFORM48 = '1J      '\\nTZERO48 =           2147483648\\nTTYPE49 = 'PPS_ERR_LOWPASS'\\nTFORM49 = '1D      '\\nTUNIT49 = 's       '\\nTTYPE50 = 'GPS_INIT'\\nTFORM50 = '1B      '\\nTNULL50 =                  254\\nTTYPE51 = 'GPS_CONVERGED'\\nTFORM51 = '1B      '\\nTNULL51 =                  254\\nTTYPE52 = 'NICER_SAA'\\nTFORM52 = '1B      '\\nTTYPE53 = 'ST_STARS'\\nTFORM53 = '1B      '\\nTNULL53 =                  254\\nTTYPE54 = 'ST_FAILCODE'\\nTFORM54 = '1B      '\\nTNULL54 =                  254\\nTTYPE55 = 'MPU_ALL_COUNT'\\nTFORM55 = '56I     '\\nTDIM55  = '(8,7)   '\\nTTYPE56 = 'MPU_OVER_COUNT'\\nTFORM56 = '56I     '\\nTDIM56  = '(8,7)   '\\nTTYPE57 = 'MPU_UNDER_COUNT'\\nTFORM57 = '56I     '\\nTDIM57  = '(8,7)   '\\nTTYPE58 = 'MPU_XRAY_COUNT'\\nTFORM58 = '56I     '\\nTDIM58  = '(8,7)   '\\nTTYPE59 = 'TOT_ALL_COUNT'\\nTFORM59 = '1J      '\\nTTYPE60 = 'TOT_UNDER_COUNT'\\nTFORM60 = '1J      '\\nTTYPE61 = 'TOT_OVER_COUNT'\\nTFORM61 = '1J      '\\nTTYPE62 = 'TOT_XRAY_COUNT'\\nTFORM62 = '1J      '\\nTTYPE63 = 'FPM_ON  '\\nTFORM63 = '56L     '\\nTDIM63  = '(8,7)   '\\nTTYPE64 = 'NUM_FPM_ON'\\nTFORM64 = '1J      '\\nTTYPE65 = 'FPM_RATIO_REJ_COUNT'\\nTFORM65 = '1E      '\\nTDISP65 = 'F7.2    '\\nTTYPE66 = 'FPM_XRAY_PI_0000_0025'\\nTFORM66 = '1E      '\\nTDISP66 = 'F7.2    '\\nTTYPE67 = 'FPM_XRAY_PI_0035_0200'\\nTFORM67 = '1E      '\\nTDISP67 = 'F7.2    '\\nTTYPE68 = 'FPM_XRAY_PI_0200_0800'\\nTFORM68 = '1E      '\\nTDISP68 = 'F7.2    '\\nTTYPE69 = 'FPM_XRAY_PI_0800_1200'\\nTFORM69 = '1E      '\\nTDISP69 = 'F7.2    '\\nTTYPE70 = 'FPM_XRAY_PI_1200_1500'\\nTFORM70 = '1E      '\\nTDISP70 = 'F7.2    '\\nTTYPE71 = 'FPM_XRAY_PI_1500_1700'\\nTFORM71 = '1E      '\\nTDISP71 = 'F7.2    '\\nTTYPE72 = 'FPM_XRAY_PI_COUNT'\\nTFORM72 = '1E      '\\nTTYPE73 = 'MPU_DEADTIME'\\nTFORM73 = '7D      '\\nTUNIT73 = 's       '\\nTDISP73 = 'F10.6   '\\nTDIM73  = '(7)     '\\nTTYPE74 = 'MPU_DOUBLE_COUNT'\\nTFORM74 = '56J     '\\nTNULL74 =                   -1\\nTDIM74  = '(8,7)   '\\nTTYPE75 = 'MPU_FT_COUNT'\\nTFORM75 = '56I     '\\nTNULL75 =                   -1\\nTDIM75  = '(8,7)   '\\nTTYPE76 = 'MPU_NOISE25_COUNT'\\nTFORM76 = '56I     '\\nTNULL76 =                   -1\\nTDIM76  = '(8,7)   '\\nTTYPE77 = 'MPU_OVERONLY_COUNT'\\nTFORM77 = '56J     '\\nTNULL77 =                   -1\\nTDIM77  = '(8,7)   '\\nTTYPE78 = 'MPU_UNDERONLY_COUNT'\\nTFORM78 = '56J     '\\nTNULL78 =                   -1\\nTDIM78  = '(8,7)   '\\nTTYPE79 = 'FPM_DOUBLE_COUNT'\\nTFORM79 = '1E      '\\nTDISP79 = 'F7.2    '\\nTTYPE80 = 'FPM_OVERONLY_COUNT'\\nTFORM80 = '1E      '\\nTDISP80 = 'F7.2    '\\nTTYPE81 = 'FPM_UNDERONLY_COUNT'\\nTFORM81 = '1E      '\\nTDISP81 = 'F7.2    '\\nTTYPE82 = 'FPM_FT_COUNT'\\nTFORM82 = '1E      '\\nTDISP82 = 'F7.2    '\\nTTYPE83 = 'FPM_NOISE25_COUNT'\\nTFORM83 = '1E      '\\nTDISP83 = 'F7.2    '\\nTTYPE84 = 'MPU_FT_PI_AVG'\\nTFORM84 = '56E     '\\nTUNIT84 = 'chan    '\\nTDISP84 = 'F7.2    '\\nTDIM84  = '(8,7)   '\\nTTYPE85 = 'MPU_FT_PI_ERR'\\nTFORM85 = '56E     '\\nTUNIT85 = 'chan    '\\nTDISP85 = 'F7.2    '\\nTDIM85  = '(8,7)   '\\nTTYPE86 = 'MPU_FT_PI_FAST_AVG'\\nTFORM86 = '56E     '\\nTUNIT86 = 'chan    '\\nTDISP86 = 'F7.2    '\\nTDIM86  = '(8,7)   '\\nTTYPE87 = 'MPU_FT_PI_FAST_ERR'\\nTFORM87 = '56E     '\\nTUNIT87 = 'chan    '\\nTDISP87 = 'F7.2    '\\nTDIM87  = '(8,7)   '\\nTTYPE88 = 'MPU_NOISE25_PI_AVG'\\nTFORM88 = '56E     '\\nTUNIT88 = 'chan    '\\nTDISP88 = 'F7.2    '\\nTDIM88  = '(8,7)   '\\nTTYPE89 = 'MPU_NOISE25_PI_ERR'\\nTFORM89 = '56E     '\\nTUNIT89 = 'chan    '\\nTDISP89 = 'F7.2    '\\nTDIM89  = '(8,7)   '\\nTTYPE90 = 'ISS_ATT_STATE'\\nTFORM90 = '4A      '\\nTTYPE91 = 'ROBO_STATE'\\nTFORM91 = '1B      '\\nTTYPE92 = 'VEHICLE_SOYUZ_DC1'\\nTFORM92 = '1B      '\\nTTYPE93 = 'VEHICLE_SOYUZ_MRM1'\\nTFORM93 = '1B      '\\nTTYPE94 = 'VEHICLE_SOYUZ_MRM2'\\nTFORM94 = '1B      '\\nTTYPE95 = 'VEHICLE_SOYUZ_SM'\\nTFORM95 = '1B      '\\nTTYPE96 = 'KP      '\\nTFORM96 = 'D       '\\nEND\\n \\n        TIME                    POSITION        VELOCITY        QUATERNION\\n        s                       km              km/s\\n     10   1.670967750000000E+08   7.6474835E+02   5.3375187E+00   1.5132423E-01\\n                                 -6.2692363E+03  -1.4554321E+00   8.7570614E-01\\n                                 -2.4959819E+03   5.2999349E+00  -3.7956562E-02\\n                                                                  4.5694530E-01\\n \\n        PNTUNIT         POLAR           RA              DEC\\n                        rad, rad, km    deg             deg\\n     10   7.8987253E-01   6.7910298E+03   3.4597382E+02  -3.5496964E+01\\n         -1.9732094E-01   1.2845563E+00\\n         -5.8065981E-01  -3.7636358E-01\\n \\n        ROLL            SAT_LAT         SAT_LON         SAT_ALT\\n        deg             deg             deg             km\\n     10   2.7536090E+02  -2.1564043E+01   7.3599655E+01   6.7910298E+03\\n \\n        ELV             BR_EARTH        SUNSHINE FOV_FLAG SUN_ANGLE\\n        deg             deg                               deg\\n     10   4.9063656E+01   2.0000000E+02      0        0     6.0071373E+01\\n \\n        MOON_ANGLE      RAM_ANGLE       ANG_DIST        SAA    SAA_TIME\\n        deg             deg             deg                    s\\n     10   1.2891882E+02   7.9275452E+01   8.7607956E+01      0  -9.9900000E+02\\n \\n        COR_ASCA        COR_SAX         MCILWAIN_L      SUN_RA\\n        GeV/c           GeV/c                           deg\\n     10   8.6360788E+00   8.2977114E+00   1.3972636E+00   2.6376434E+01\\n \\n        SUN_DEC         MOON_RA         MOON_DEC        EARTH_RA\\n        deg             deg             deg             deg\\n     10   1.0906102E+01   2.0118983E+02  -3.5218375E+00   9.6954826E+01\\n \\n        EARTH_DEC       TIME_ADJ                ST_BBO ST_VALID ST_OBJECTS\\n        deg             s\\n     10   2.1564043E+01   1.670967730000000E+08      0      0        0\\n \\n        ST_VIDEO_VDC    ATT_ANG_AZ              ATT_ANG_EL\\n        V               deg                     deg\\n     10   2.2484374E+00   7.270616823296272E+00   1.258785615021805E+02\\n \\n        RA_CMD                  DEC_CMD                 ATT_ERR_AZ\\n        deg                     deg                     deg\\n     10   3.051165799303329E+02   4.385452998998672E+01   1.019244677076661E+02\\n \\n        ATT_ERR_EL              ATT_STATE ATT_MODE ATT_SUBMODE_AZ\\n        deg\\n     10  -1.610062099014008E+01      1         1        1\\n \\n        ATT_SUBMODE_EL TARG_CMD PPS_SOURCE  PPS_ERR_LOWPASS         GPS_INIT\\n                                            s\\n     10      1           6167             1   1.144538554372243E-09      1\\n \\n        GPS_CONVERGED NICER_SAA ST_STARS ST_FAILCODE MPU_ALL_COUNT\\n \\n     10      1             0         0       32          13\\n                                                         12\\n                                                         17\\n                                                          8\\n                                                         18\\n                                                         20\\n                                                         12\\n                                                         15\\n                                                         16\\n                                                          0\\n                                                         24\\n                                                         20\\n                                                         21\\n                                                         14\\n                                                         18\\n                                                         14\\n                                                          0\\n                                                         18\\n                                                          0\\n                                                         17\\n                                                         21\\n                                                         15\\n                                                         20\\n                                                         15\\n                                                         12\\n                                                         22\\n                                                         25\\n                                                         23\\n                                                         16\\n                                                         18\\n                                                         18\\n                                                         20\\n                                                         29\\n                                                         26\\n                                                         25\\n                                                         21\\n                                                         19\\n                                                         24\\n                                                         19\\n                                                         19\\n                                                         17\\n                                                         19\\n                                                         19\\n                                                         16\\n                                                         16\\n                                                         21\\n                                                         20\\n                                                         21\\n                                                          0\\n                                                         23\\n                                                         13\\n                                                         19\\n                                                         22\\n                                                         16\\n                                                         24\\n                                                         13\\n \\n        MPU_OVER_COUNT MPU_UNDER_COUNT MPU_XRAY_COUNT TOT_ALL_COUNT\\n \\n     10      0              6               7                 963\\n             0              5               7\\n             0              5              12\\n             0              1               7\\n             0              5              13\\n             0              5              15\\n             0              6               6\\n             0              5              10\\n             0              5              11\\n             0              0               0\\n             0              9              15\\n             0              8              12\\n             0              5              16\\n             1              4               9\\n             0              6              12\\n             0              5               9\\n             0              0               0\\n             0              6              12\\n             0              0               0\\n             0              6              11\\n             0              6              15\\n             0              4              11\\n             0              5              15\\n             0              5              10\\n             1              3               8\\n             0              4              18\\n             0              6              19\\n             0             10              13\\n             0              5              11\\n             0              5              13\\n             0              6              12\\n             0              5              15\\n             1             13              15\\n             0              5              21\\n             0              5              20\\n             0              6              15\\n             0              6              13\\n             0              5              19\\n             1              5              13\\n             0              5              14\\n             0              5              12\\n             0              5              14\\n             0              5              14\\n             0              4              12\\n             0              5              11\\n             0              7              14\\n             0              6              14\\n             0              5              16\\n             0              0               0\\n             0              6              17\\n             0              5               8\\n             0              7              12\\n             1              5              16\\n             0              5              11\\n             1              5              18\\n             0              2              11\\n \\n        TOT_UNDER_COUNT TOT_OVER_COUNT TOT_XRAY_COUNT FPM_ON NUM_FPM_ON\\n \\n     10         283               6            674    T               52\\n                                                      T\\n                                                      T\\n                                                      T\\n                                                      T\\n                                                      T\\n                                                      T\\n                                                      T\\n                                                      T\\n                                                      F\\n                                                      T\\n                                                      T\\n                                                      T\\n                                                      T\\n                                                      T\\n                                                      T\\n                                                      F\\n                                                      T\\n                                                      F\\n                                                      T\\n                                                      T\\n                                                      T\\n                                                      T\\n                                                      T\\n                                                      T\\n                                                      T\\n                                                      T\\n                                                      T\\n                                                      T\\n                                                      T\\n                                                      T\\n                                                      T\\n                                                      T\\n                                                      T\\n                                                      T\\n                                                      T\\n                                                      T\\n                                                      T\\n                                                      T\\n                                                      T\\n                                                      T\\n                                                      T\\n                                                      T\\n                                                      T\\n                                                      T\\n                                                      T\\n                                                      T\\n                                                      T\\n                                                      F\\n                                                      T\\n                                                      T\\n                                                      T\\n                                                      T\\n                                                      T\\n                                                      T\\n                                                      T\\n \\n        FPM_RATIO_REJ_COUNT FPM_XRAY_PI_0000_0025 FPM_XRAY_PI_0035_0200\\n \\n     10   0.0000000E+00       3.6153846E+00         0.0000000E+00\\n \\n        FPM_XRAY_PI_0200_0800 FPM_XRAY_PI_0800_1200 FPM_XRAY_PI_1200_1500\\n \\n     10   0.0000000E+00         0.0000000E+00         1.9230770E-02\\n \\n        FPM_XRAY_PI_1500_1700 FPM_XRAY_PI_COUNT MPU_DEADTIME\\n                                                s\\n     10   0.0000000E+00         1.0000000E+00     2.823150018230081E-03\\n                                                  2.649803180247545E-03\\n                                                  2.020301297307014E-03\\n                                                  3.114643041044474E-03\\n                                                  3.507539629936218E-03\\n                                                  2.828730037435889E-03\\n                                                  2.556773368269205E-03\\n \\n        MPU_DOUBLE_COUNT MPU_FT_COUNT MPU_NOISE25_COUNT MPU_OVERONLY_COUNT\\n \\n     10           1           5            4                      0\\n                  0           5            2                      0\\n                  0           5            6                      0\\n                  0           5            2                      0\\n                  0           5            7                      0\\n                  0           5            9                      0\\n                  0           5            1                      0\\n                  0           5            6                      1\\n                  0           5            2                      1\\n                  0           0            0                      0\\n                  0           5            5                      0\\n                  0           5            1                      0\\n                  0           5            3                      1\\n                  0           5            6                      0\\n                  0           5            1                      1\\n                  0           5            2                      0\\n                  0           0            0                      0\\n                  0           5            3                      0\\n                  0           0            0                      0\\n                  0           5            1                      0\\n                  0           5            4                      1\\n                  0           5            1                      0\\n                  0           5            3                      0\\n                  0           5            3                      0\\n                  0           5            5                      0\\n                  0           5            2                      0\\n                  0           5            4                      1\\n                  1           5            2                      0\\n                  0           5            6                      0\\n                  1           5            4                      0\\n                  0           5            2                      1\\n                  0           5            2                      0\\n                  0           5            6                      0\\n                  0           5            5                      0\\n                  0           5            5                      1\\n                  1           5            7                      0\\n                  0           5            1                      0\\n                  1           5            2                      0\\n                  0           5            5                      0\\n                  0           5            4                      1\\n                  0           5            2                      0\\n                  0           5            5                      0\\n                  0           5            4                      0\\n                  0           5            2                      0\\n                  0           5            1                      0\\n                  0           5            2                      0\\n                  0           5            2                      0\\n                  0           5            6                      0\\n                  0           0            0                      0\\n                  0           5            4                      0\\n                  0           5            4                      0\\n                  0           5            5                      0\\n                  0           5           10                      1\\n                  0           5            1                      0\\n                  0           5            2                      0\\n                  0           5            1                      0\\n \\n        MPU_UNDERONLY_COUNT FPM_DOUBLE_COUNT FPM_OVERONLY_COUNT\\n \\n     10           5           9.6153848E-02    1.9230770E-01\\n                  6\\n                  4\\n                  2\\n                  6\\n                  5\\n                  6\\n                  4\\n                  5\\n                  0\\n                  9\\n                  7\\n                  5\\n                  5\\n                  5\\n                  5\\n                  0\\n                  5\\n                  0\\n                  5\\n                  5\\n                  4\\n                  5\\n                  6\\n                  5\\n                  4\\n                  4\\n                 10\\n                  5\\n                  4\\n                  5\\n                  6\\n                 13\\n                  5\\n                  6\\n                  5\\n                  6\\n                  4\\n                  6\\n                  6\\n                  5\\n                  5\\n                  5\\n                  4\\n                  5\\n                  7\\n                  6\\n                  5\\n                  0\\n                  6\\n                  5\\n                  7\\n                  6\\n                  6\\n                  5\\n                  2\\n \\n        FPM_UNDERONLY_COUNT FPM_FT_COUNT    FPM_NOISE25_COUNT MPU_FT_PI_AVG\\n                                                              chan\\n     10   5.4230771E+00       5.0000000E+00   3.5576923E+00     1.2000000E+00\\n                                                               -1.8000000E+00\\n                                                                4.0000001E-01\\n                                                                2.0000000E-01\\n                                                               -2.0000000E+00\\n                                                               -3.0000000E+00\\n                                                               -3.5999999E+00\\n                                                               -1.6000000E+00\\n                                                                2.0000000E-01\\n                                                              INDEF\\n                                                               -8.0000001E-01\\n                                                               -4.0000001E-01\\n                                                               -4.0000001E-01\\n                                                               -2.2000000E+00\\n                                                               -4.0000001E-01\\n                                                               -1.0000000E+00\\n                                                              INDEF\\n                                                                1.0000000E+00\\n                                                              INDEF\\n                                                               -8.0000001E-01\\n                                                               -2.0000000E-01\\n                                                               -8.0000001E-01\\n                                                               -2.8000000E+00\\n                                                               -2.0000000E-01\\n                                                               -1.6000000E+00\\n                                                               -2.2000000E+00\\n                                                               -5.1999998E+00\\n                                                               -8.0000001E-01\\n                                                                1.4000000E+00\\n                                                               -1.0000000E+00\\n                                                               -2.4000001E+00\\n                                                               -1.6000000E+00\\n                                                                0.0000000E+00\\n                                                                1.2000000E+00\\n                                                                2.8000000E+00\\n                                                               -2.0000000E+00\\n                                                               -8.0000001E-01\\n                                                               -8.0000001E-01\\n                                                                0.0000000E+00\\n                                                               -1.4000000E+00\\n                                                                1.2000000E+00\\n                                                                8.0000001E-01\\n                                                                2.2000000E+00\\n                                                               -2.8000000E+00\\n                                                               -6.0000002E-01\\n                                                                2.0000000E-01\\n                                                                1.4000000E+00\\n                                                               -8.0000001E-01\\n                                                              INDEF\\n                                                                4.0000001E-01\\n                                                               -8.0000001E-01\\n                                                                6.0000002E-01\\n                                                               -2.0000000E-01\\n                                                                2.0000000E-01\\n                                                                8.0000001E-01\\n                                                               -3.0000000E+00\\n \\n        MPU_FT_PI_ERR   MPU_FT_PI_FAST_AVG MPU_FT_PI_FAST_ERR\\n        chan            chan               chan\\n     10   1.8330302E+00   2.2000000E+00      4.3543081E+00\\n          3.4871192E+00  -6.0000002E-01      3.0724583E+00\\n          1.6248077E+00  -4.0000001E-01      2.7276363E+00\\n          2.9257479E+00  -2.2000000E+00      4.4000001E+00\\n          3.5213633E+00   4.0000001E-01      3.3226495E+00\\n          3.6331804E+00  -2.4000001E+00      4.3634849E+00\\n          2.2449946E+00   4.4000001E+00      3.8262253E+00\\n          2.4166093E+00  -2.5999999E+00      4.7159305E+00\\n          1.7204651E+00   2.5999999E+00      5.4626002E+00\\n        INDEF           INDEF              INDEF\\n          2.4000001E+00  -3.4000001E+00      2.5768197E+00\\n          5.0833058E+00   1.8000000E+00      2.7129321E+00\\n          3.1368775E+00   3.0000000E+00      3.6878178E+00\\n          2.9257476E+00   2.5999999E+00      3.9293766E+00\\n          3.4985712E+00  -2.4000001E+00      4.4988885E+00\\n          3.0331502E+00  -2.0000000E+00      2.5298221E+00\\n        INDEF           INDEF              INDEF\\n          3.7947333E+00   4.1999998E+00      6.9108610E+00\\n        INDEF           INDEF              INDEF\\n          1.9390719E+00   2.0000000E+00      3.1622777E+00\\n          2.3151674E+00  -8.0000001E-01      5.1923022E+00\\n          2.4819348E+00  -1.0000000E+00      1.6733201E+00\\n          2.4819348E+00  -2.0000000E+00      5.0199599E+00\\n          1.1661904E+00   2.8000000E+00      3.8678160E+00\\n          2.9393876E+00   3.0000000E+00      5.5497746E+00\\n          2.3151674E+00  -6.0000002E-01      4.2708311E+00\\n          1.6000006E+00  -1.6000000E+00      1.1999999E+00\\n          3.0594118E+00  -6.0000002E-01      5.7131429E+00\\n          2.1540658E+00  -8.0000001E-01      4.4899888E+00\\n          2.0976176E+00  -2.4000001E+00      3.6110940E+00\\n          1.9595916E+00   8.0000001E-01      4.9558048E+00\\n          2.5768197E+00  -2.0000000E-01      2.9257479E+00\\n          1.6733201E+00  -8.0000001E-01      2.7129319E+00\\n          3.9191835E+00   1.4000000E+00      4.8826222E+00\\n          2.5612497E+00  -4.0000000E+00      4.6043458E+00\\n          2.6076810E+00   1.2000000E+00      2.2271056E+00\\n          3.0594118E+00  -4.0000001E-01      6.4683847E+00\\n          1.9390719E+00  -2.0000000E-01      2.1354156E+00\\n          2.7568097E+00  -1.0000000E+00      4.1952353E+00\\n          1.0198039E+00  -2.2000000E+00      3.0594118E+00\\n          2.2271056E+00  -1.0000000E+00      2.5298221E+00\\n          2.4819348E+00  -2.2000000E+00      3.5999999E+00\\n          4.1665335E+00  -1.8000000E+00      3.3105891E+00\\n          1.3266500E+00   2.5999999E+00      1.9595919E+00\\n          1.0198039E+00   2.5999999E+00      8.2365046E+00\\n          3.1874754E+00  -1.8000000E+00      2.9257479E+00\\n          4.8414874E+00  -2.2000000E+00      5.5281100E+00\\n          3.3105891E+00  -6.0000002E-01      4.8414874E+00\\n        INDEF           INDEF              INDEF\\n          1.0198039E+00  -3.2000000E+00      2.0396078E+00\\n          4.5343137E+00   5.8000002E+00      5.6356010E+00\\n          1.7435596E+00  -2.0000000E+00      6.0663004E+00\\n          3.0594118E+00  -4.4000001E+00      3.0724583E+00\\n          3.4871192E+00  -2.2000000E+00      5.3065996E+00\\n          2.7856777E+00   0.0000000E+00      1.4142135E+00\\n          2.2803509E+00   1.6000000E+00      3.1368773E+00\\n \\n        MPU_NOISE25_PI_AVG MPU_NOISE25_PI_ERR ISS_ATT_STATE ROBO_STATE\\n        chan               chan\\n     10   1.4500000E+01      2.6925824E+00    +XVV               0\\n          7.5000000E+00      5.0000000E-01\\n          9.1666670E+00      2.0344245E+00\\n          1.0500000E+01      1.5000000E+00\\n          1.1571428E+01      2.7180436E+00\\n          1.1444445E+01      2.8327878E+00\\n          1.1000000E+01      0.0000000E+00\\n          1.0333333E+01      9.4281250E-01\\n          1.0000000E+01      1.0000000E+00\\n        INDEF              INDEF\\n          9.0000000E+00      2.9664793E+00\\n          1.0000000E+01      0.0000000E+00\\n          1.0000000E+01      8.1649661E-01\\n          9.3333330E+00      2.3570240E+00\\n          7.0000000E+00      0.0000000E+00\\n          1.0000000E+01      0.0000000E+00\\n        INDEF              INDEF\\n          1.0000000E+01      8.1649661E-01\\n        INDEF              INDEF\\n          1.1000000E+01      0.0000000E+00\\n          8.7500000E+00      2.1650636E+00\\n          1.5000000E+01      0.0000000E+00\\n          8.3333330E+00      1.2472212E+00\\n          9.6666670E+00      4.7139800E-01\\n          1.0000000E+01      2.3664320E+00\\n          6.5000000E+00      5.0000000E-01\\n          1.0750000E+01      3.4910600E+00\\n          7.0000000E+00      2.0000000E+00\\n          1.0333333E+01      2.5603831E+00\\n          9.2500000E+00      1.0897248E+00\\n          8.5000000E+00      2.5000000E+00\\n          9.5000000E+00      5.0000000E-01\\n          1.0000000E+01      2.1602468E+00\\n          9.8000002E+00      2.0396068E+00\\n          9.0000000E+00      3.1622777E+00\\n          9.0000000E+00      1.6903085E+00\\n          1.2000000E+01      0.0000000E+00\\n          9.5000000E+00      5.0000000E-01\\n          1.2400000E+01      1.8547262E+00\\n          8.2500000E+00      1.9202864E+00\\n          1.1500000E+01      3.5000000E+00\\n          8.1999998E+00      1.9390727E+00\\n          1.0000000E+01      2.5495098E+00\\n          8.5000000E+00      5.0000000E-01\\n          9.0000000E+00      0.0000000E+00\\n          9.5000000E+00      5.0000000E-01\\n          9.0000000E+00      2.0000000E+00\\n          1.1166667E+01      3.9756193E+00\\n        INDEF              INDEF\\n          1.2000000E+01      3.7416575E+00\\n          1.0000000E+01      3.6742346E+00\\n          1.0400000E+01      2.3323824E+00\\n          1.0200000E+01      2.1817434E+00\\n          1.1000000E+01      0.0000000E+00\\n          1.1500000E+01      5.0000000E-01\\n          1.1000000E+01      0.0000000E+00\\n \\n        VEHICLE_SOYUZ_DC1 VEHICLE_SOYUZ_MRM1 VEHICLE_SOYUZ_MRM2\\n \\n     10      0                 1                  0\\n \\n        VEHICLE_SOYUZ_SM KP\\n \\n     10      0             1.000000000000000E+00\\n\""
      ]
     },
     "execution_count": 55,
     "metadata": {},
     "output_type": "execute_result"
    }
   ],
   "source": []
  },
  {
   "cell_type": "markdown",
   "metadata": {},
   "source": [
    "# QUZCIF"
   ]
  },
  {
   "cell_type": "code",
   "execution_count": 51,
   "metadata": {},
   "outputs": [
    {
     "data": {
      "text/plain": [
       "' ERROR - rcnfig 2.0.1: Unable to find a valid entry for the ROSAT XTI in the Cal\\n         db configuration file /software/caldb/caldb.config.20180925\\n ERROR - rcnfig 2.0.1: Aborting\\n ERROR - caldb_info 1.2.1: CALDB NOT correctly configured for the XTI instrument\\n          onboard ROSAT\\n ERROR - caldb_info 1.2.1: Serious problem with CALDB set-up\\n ERROR - gtcalf 1.2.1: CALDB not defined/available\\n ERROR - gtcalf 1.2.1: Fatal - aborting\\n'"
      ]
     },
     "execution_count": 51,
     "metadata": {},
     "output_type": "execute_result"
    }
   ],
   "source": [
    "wtf.quzcif(mission='rosat')"
   ]
  },
  {
   "cell_type": "markdown",
   "metadata": {},
   "source": [
    "# Add parameter list to function help"
   ]
  },
  {
   "cell_type": "markdown",
   "metadata": {},
   "source": [
    "## Function to create a docstring from a parfile"
   ]
  },
  {
   "cell_type": "raw",
   "metadata": {},
   "source": [
    "pdir = os.environ['PFILES'].split(';')[-1]\n",
    "task = 'fverify'\n",
    "with open(os.path.join(pdir,'{0}.par'.format(task)),'r') as f:\n",
    "    ll=f.readlines()\n",
    "\n",
    "pdarr = []\n",
    "#:param DGDdir: directory containing the downloaded DGD files\n",
    "for l in ll:\n",
    "    p = l.strip().split(',')\n",
    "    desc = l.strip().split('\"')[-2]\n",
    "    default = ''\n",
    "    if p[3]:\n",
    "        default = \"(default = {0})\".format(p[3])\n",
    "    pstr = ':param {0}: {1} {2}'.format(p[0],desc, default)\n",
    "    pdarr.append(pstr)\n",
    "for p in pdarr:\n",
    "    print(p)\n",
    "    "
   ]
  },
  {
   "cell_type": "raw",
   "metadata": {
    "run_control": {
     "marked": false
    }
   },
   "source": [
    "PFILES_DIR = os.environ['PFILES'].split(';')[-1]\n",
    "\n",
    "import collections\n",
    "import csv\n",
    "import importlib\n",
    "import inspect\n",
    "import logging\n",
    "import os\n",
    "import sys\n",
    "\n",
    "logging.basicConfig(filename='create_function_test.log',\n",
    "                    filemode='a', level=logging.DEBUG)\n",
    "LOGGER = logging.getLogger('create_function')\n",
    "LOGGER.debug('Entering create_function module')\n",
    "\n",
    "PERMITTED_MODES = {'a' : 'a', 'A' : 'a', 'auto' : 'a',\n",
    "                   'h' : 'h', 'H' : 'h', 'hidden' : 'h',\n",
    "                   'l' : 'l', 'L' : 'l', 'learn' : 'l',\n",
    "                   'q' : 'q', 'Q' : 'q', 'query' : 'q'}\n",
    "PERMITTED_TYPES = ['b', 'i', 'r', 's', 'f']\n",
    "PFILES_DIR = os.path.join(os.environ['HEADAS'], 'syspfiles')\n",
    "HToolsParameter = collections.namedtuple('HToolsParameter', ['name', 'type', \\\n",
    "                                                             'mode', 'default', \\\n",
    "                                                             'min', 'max', \\\n",
    "                                                             'prompt'])\n",
    "THIS_MODULE = sys.modules[__name__]\n",
    "THIS_MODULE_DIR = '/HEA_dev/asdgit/heasoftpy/tmp'\n",
    "\n",
    "\n",
    "def pdocstring(task):\n",
    "    \"\"\"\n",
    "    Creates a docstring from a HEASoft .par file for a specified task\n",
    "\n",
    "    :param task: HEASoft task\n",
    "    returns: array of parameters and descriptions in docstring format\n",
    "    \"\"\"\n",
    "    pdir = os.environ['PFILES'].split(';')[-1]\n",
    "    skipit = False\n",
    "    parfile = os.path.join(pdir, '{0}.par'.format(task))\n",
    "    pdarr = []\n",
    "    try:\n",
    "        with open(parfile, 'r') as f:\n",
    "           ll = f.readlines()\n",
    "    except Exception as errmsg:\n",
    "        skipit = True\n",
    "        print('Problem reading {0}'.format(parfile))\n",
    "    if not skipit:\n",
    "        for l in ll:\n",
    "            skipit = False\n",
    "            p = l.strip().split(',')\n",
    "            pstr = ''\n",
    "            try:\n",
    "                desc = l.strip().split('\"')[-2]\n",
    "            except Exception as errmsg:\n",
    "                skipit = True\n",
    "                print('Problem parsing parameter file for {0}'.format(task))\n",
    "            if not skipit:\n",
    "                default = ''\n",
    "                try:\n",
    "                    if p[3]:\n",
    "                        default = \"(default = {0})\".format(p[3])\n",
    "                except Exception:\n",
    "                    pass\n",
    "                pstr = ':param {0}: {1} {2}'.format(p[0], desc, default)\n",
    "            pdarr.append(pstr)\n",
    "    return pdarr\n",
    "\n",
    "\n",
    "def create_function(task_name):\n",
    "    \"\"\" function to create a function (see module docstring for more) \"\"\"\n",
    "    LOGGER.debug('Entering create_function, task_name: %s', task_name)\n",
    "\n",
    "    function_str = ''\n",
    "    keyword_pairs = {}\n",
    "    # Create the path to the par file we want\n",
    "    pfile_path = os.path.join(PFILES_DIR, task_name + '.par')\n",
    "    if os.path.exists(pfile_path) and os.path.isfile(pfile_path):\n",
    "        LOGGER.debug('%s is a good path', pfile_path)\n",
    "    else:\n",
    "        LOGGER.debug('%s not found or not a regular file', pfile_path)\n",
    "\n",
    "    function_str = 'def {0}(**kwargs):\\n'.format(task_name)\n",
    "    # Create body of function (command line creation, subprocess call)\n",
    "    fn_docstring = '    \"\"\" \\n '\n",
    "    fn_docstring += \"    Automatically generated function for running the HTools task {0}\\n\\n\".format(task_name)    \n",
    "    pdarr = pdocstring(task_name)\n",
    "    for par in pdarr:\n",
    "        fn_docstring += \"    {0}\\n\".format(par)\n",
    "    fn_docstring += '    \"\"\" \\n\\n'\n",
    "    \n",
    "    function_str += fn_docstring\n",
    "    function_str += '    import sys\\n'\n",
    "    function_str += '    import subprocess\\n'\n",
    "    function_str += '    args = [\\'{}\\']\\n'.format(task_name)\n",
    "    function_str += '    for kwa in kwargs:\\n'\n",
    "    function_str += '        args.append(\\'{0}={1}\\'.format(kwa, kwargs[kwa]))\\n'\n",
    "    function_str += '    task_proc = subprocess.Popen(args, stdout=subprocess.PIPE, stderr=subprocess.STDOUT, universal_newlines = True)\\n'\n",
    "    function_str += '    task_out, _ = task_proc.communicate()\\n'\n",
    "    function_str += '    return task_out\\n'\n",
    "#    function_str += '    '\n",
    "    LOGGER.debug('At end of create_function(), function_str:\\n%s', function_str)\n",
    "    return function_str\n",
    "\n"
   ]
  },
  {
   "cell_type": "raw",
   "metadata": {},
   "source": [
    "for par_file in os.listdir(PFILES_DIR):\n",
    "    task_name = os.path.splitext(par_file)[0].replace('-', '_')\n",
    "    new_module_path = os.path.join(THIS_MODULE_DIR, task_name + '.py')\n",
    "    if not os.path.exists(os.path.join(THIS_MODULE_DIR, task_name + '.py')):\n",
    "        func_str = create_function(task_name)\n",
    "        with open(new_module_path, 'wt') as out_file:\n",
    "            out_file.write(func_str)\n",
    "\n",
    "    # The following was found at:\n",
    "    #https://stackoverflow.com/questions/67631/how-to-import-a-module-given-the-full-path\n",
    "    # Note that this shouldn't work for Python < 3.5 and 2\n",
    "    spec = importlib.util.spec_from_file_location(task_name, new_module_path)\n",
    "    func_module = importlib.util.module_from_spec(spec)\n",
    "    spec.loader.exec_module(func_module)\n",
    "    #func_module = importlib.import_module(task_name)\n",
    "\n",
    "    setattr(THIS_MODULE, task_name, func_module.__dict__[task_name])\n"
   ]
  },
  {
   "cell_type": "raw",
   "metadata": {},
   "source": [
    "fstr = create_function('fhelp')\n",
    "print(fstr)"
   ]
  },
  {
   "cell_type": "raw",
   "metadata": {},
   "source": [
    "pdocstring(os.path.join('oldaspect'))"
   ]
  },
  {
   "cell_type": "raw",
   "metadata": {},
   "source": [
    "pdir = os.environ['PFILES'].split(';')[-1]\n",
    "task = 'oldaspect'\n",
    "pfile = os.path.join(pdir, f'{task}.par')\n",
    "with open(pfile,'r') as f:\n",
    "    ll = f.readlines()\n",
    "for l in ll:\n",
    "    print(l.strip())"
   ]
  },
  {
   "cell_type": "markdown",
   "metadata": {},
   "source": [
    "# Test run of nicerl2"
   ]
  },
  {
   "cell_type": "code",
   "execution_count": 5,
   "metadata": {},
   "outputs": [],
   "source": [
    "wtf.nicerl2?"
   ]
  },
  {
   "cell_type": "raw",
   "metadata": {},
   "source": [
    "wtf.fhelp(task='nicerl2')"
   ]
  },
  {
   "cell_type": "markdown",
   "metadata": {},
   "source": [
    "## Comments\n",
    "\n",
    "* can't use \"clobber+\" syntax or positional inputs\n",
    "* in a Notebook, immediately get `Unable to redirect prompts to the /dev/tty (at headas_stdio.c:152)` and `Unable to redirect prompts to the /dev/tty (at headas_stdio.c:152)`; ipython command line works ok\n",
    "* should return print(task_out) rather than task_out to preserve formatting\n"
   ]
  },
  {
   "cell_type": "code",
   "execution_count": 8,
   "metadata": {},
   "outputs": [
    {
     "name": "stdout",
     "output_type": "stream",
     "text": [
      "['nicerl2', 'indir=tmp/testdata/2626010301', 'clobber=yes']\n",
      "nicerl2 1.8\n",
      "--------------------------------------------------------\n",
      "      ang_dist = 0.015\n",
      "      br_earth = 30\n",
      "      calstation = FLIGHT\n",
      "      cldir = xti/event_cl\n",
      "      cleanup = 1\n",
      "      cleanup_ufa_files = 0\n",
      "      clfile = $CLDIR/ni$OBSID_0mpu7_cl.evt\n",
      "      clobber = 1\n",
      "      cor_range = *-*\n",
      "      elv = 15\n",
      "      gtifiles = NONE\n",
      "      history = 1\n",
      "      indir = tmp/testdata/2626010301\n",
      "      issmanfile = CALDB\n",
      "      leapinit = AUTO\n",
      "      min_fpm = 7\n",
      "      mkfile = auxil/ni$OBSID.mkf\n",
      "      mpulist = 0-6\n",
      "      nicercal_filtexpr = EVENT_FLAGS=bxxxx00\n",
      "      nicerclean_args = NONE\n",
      "      nicersaafilt = YES\n",
      "      nimaketime_gtiexpr = NONE\n",
      "      niprefilter2 = 1\n",
      "      overonly_expr = 1.52*COR_SAX**(-0.633)\n",
      "      overonly_range = *-1.0\n",
      "      picalfile = CALDB\n",
      "      pifastcalfile = CALDB\n",
      "      pirange = 20:1500\n",
      "      robofile = CALDB\n",
      "      saafilt = NO\n",
      "      saaregfile = NONE\n",
      "      st_valid = YES\n",
      "      timebiascalfile = CALDB\n",
      "      trackfilt = YES\n",
      "      trumpetfilt = YES\n",
      "      trumpetkeep = GOOD\n",
      "      ufafile = $CLDIR/ni$OBSID_0mpu7_ufa.evt\n",
      "      ufdir = xti/event_uf\n",
      "      underonly_range = 0-200\n",
      "      vehiclefile = CALDB\n",
      "  MPU List: 0-6\n",
      "   ========== Running nicercal ==========\n",
      "nicercal 1.6\n",
      "--------------------------------------------------------\n",
      "  MPU List: 0-6\n",
      "  MPU0\n",
      "    tmp/testdata/2626010301/xti/event_uf/ni2626010301_0mpu0_uf.evt.gz \n",
      "    -> tmp/testdata/2626010301/xti/event_cl/ni2626010301_0mpu0_ufa.evt\n",
      "  MPU1\n",
      "    tmp/testdata/2626010301/xti/event_uf/ni2626010301_0mpu1_uf.evt.gz \n",
      "    -> tmp/testdata/2626010301/xti/event_cl/ni2626010301_0mpu1_ufa.evt\n",
      "  MPU2\n",
      "    tmp/testdata/2626010301/xti/event_uf/ni2626010301_0mpu2_uf.evt.gz \n",
      "    -> tmp/testdata/2626010301/xti/event_cl/ni2626010301_0mpu2_ufa.evt\n",
      "  MPU3\n",
      "    tmp/testdata/2626010301/xti/event_uf/ni2626010301_0mpu3_uf.evt.gz \n",
      "    -> tmp/testdata/2626010301/xti/event_cl/ni2626010301_0mpu3_ufa.evt\n",
      "  MPU4\n",
      "    tmp/testdata/2626010301/xti/event_uf/ni2626010301_0mpu4_uf.evt.gz \n",
      "    -> tmp/testdata/2626010301/xti/event_cl/ni2626010301_0mpu4_ufa.evt\n",
      "  MPU5\n",
      "    tmp/testdata/2626010301/xti/event_uf/ni2626010301_0mpu5_uf.evt.gz \n",
      "    -> tmp/testdata/2626010301/xti/event_cl/ni2626010301_0mpu5_ufa.evt\n",
      "  MPU6\n",
      "    tmp/testdata/2626010301/xti/event_uf/ni2626010301_0mpu6_uf.evt.gz \n",
      "    -> tmp/testdata/2626010301/xti/event_cl/ni2626010301_0mpu6_ufa.evt\n",
      "   ========== Running niprefilter2 ==========\n",
      "niprefilter2 1.8\n",
      "--------------------------------------------------------\n",
      "  MPU List: 0-6\n",
      "  MPU HK files\n",
      "  MPU0\n",
      "  MPU1\n",
      "  MPU2\n",
      "  MPU3\n",
      "  MPU4\n",
      "  MPU5\n",
      "  MPU6\n",
      "  Event files\n",
      "  Merging summary files\n",
      "  Interpolating result onto .mkf file\n",
      "  Interpolating ISS maneuver data\n",
      "  Interpolating ROBO status data\n",
      "  Interpolating vehicle docking data\n",
      "--------------------------------------------------------\n",
      "DONE\n",
      "   ========== Running nimaketime ==========\n",
      "nimaketime 1.4\n",
      "--------------------------------------------------------\n",
      "   Running maketime\n",
      "   ========== Running nicermergeclean ==========\n",
      "nicermergeclean 1.5\n",
      "--------------------------------------------------------\n",
      "nimpumerge 1.3\n",
      "--------------------------------------------------------\n",
      "  MPU List: 0-6\n",
      "  MPU0\n",
      "    tmp/testdata/2626010301/xti/event_cl/ni2626010301_0mpu0_ufa.evt\n",
      "  MPU1\n",
      "    tmp/testdata/2626010301/xti/event_cl/ni2626010301_0mpu1_ufa.evt\n",
      "  MPU2\n",
      "    tmp/testdata/2626010301/xti/event_cl/ni2626010301_0mpu2_ufa.evt\n",
      "  MPU3\n",
      "    tmp/testdata/2626010301/xti/event_cl/ni2626010301_0mpu3_ufa.evt\n",
      "  MPU4\n",
      "    tmp/testdata/2626010301/xti/event_cl/ni2626010301_0mpu4_ufa.evt\n",
      "  MPU5\n",
      "    tmp/testdata/2626010301/xti/event_cl/ni2626010301_0mpu5_ufa.evt\n",
      "  MPU6\n",
      "    tmp/testdata/2626010301/xti/event_cl/ni2626010301_0mpu6_ufa.evt\n",
      "  Master merge -> tmp/testdata/2626010301/xti/event_cl/ni2626010301_0mpu7_ufa.evt_unsort\n",
      "  Master sort -> tmp/testdata/2626010301/xti/event_cl/ni2626010301_0mpu7_ufa.evt\n",
      "  Append MPU GTIs\n",
      "nicerclean 1.7\n",
      "--------------------------------------------------------\n",
      "  Screening...\n",
      "  Updating keywords in output file...\n",
      " UFA: tmp/testdata/2626010301/xti/event_cl/ni2626010301_0mpu7_ufa.evt\n",
      "  CL: tmp/testdata/2626010301/xti/event_cl/ni2626010301_0mpu7_cl.evt\n",
      " Event files written\n",
      "\n",
      "None\n"
     ]
    }
   ],
   "source": [
    "ddir = 'tmp/testdata'\n",
    "obsid = '2626010301'\n",
    "indir = os.path.join(ddir, obsid)\n",
    "print(wtf.nicerl2(indir=indir, clobber='yes', chatter=5))"
   ]
  },
  {
   "cell_type": "markdown",
   "metadata": {},
   "source": [
    "# Test of fstruct\n",
    "\n"
   ]
  },
  {
   "cell_type": "code",
   "execution_count": null,
   "metadata": {},
   "outputs": [],
   "source": [
    "\n",
    "file = 'tmp/testdata/2626010301/xti/event_cl/ni2626010301_0mpu7_cl.evt'\n",
    "a = wtf.fstruct(infile=file)\n",
    "print(a)\n"
   ]
  },
  {
   "cell_type": "markdown",
   "metadata": {},
   "source": [
    "## nicertimeconv\n",
    "\n",
    "* this is a perl script with no parameter file so there's no par file so no python wrapper is generated\n",
    "* need to decide how to handle this case - may be generate wrappers for all files in ``$HEADAS/../x86_64-apple-darwin18.6.0/bin`` directory?"
   ]
  },
  {
   "cell_type": "code",
   "execution_count": 22,
   "metadata": {},
   "outputs": [
    {
     "name": "stdout",
     "output_type": "stream",
     "text": [
      "Object `wtf.nicertimeconv` not found.\n"
     ]
    }
   ],
   "source": [
    "wtf.nicertimeconv?"
   ]
  },
  {
   "cell_type": "markdown",
   "metadata": {},
   "source": [
    "# Onthefly Testing\n",
    "\n",
    "* Would it make better sense to move the class definition out of the __init__.py file and into its own package file? \n",
    " * I've done that as a test - moved the class def and functions to ``onthefly.Heaspy`` - I think this makes instantiation more standard\n",
    "* missing docstrings from the heasoft attributes"
   ]
  },
  {
   "cell_type": "code",
   "execution_count": 2,
   "metadata": {},
   "outputs": [
    {
     "name": "stdout",
     "output_type": "stream",
     "text": [
      "heaspy_dir = /HEA_dev/asdgit/heasoftpy/onthefly\n"
     ]
    }
   ],
   "source": [
    "from onthefly.Heaspy import Heaspy "
   ]
  },
  {
   "cell_type": "code",
   "execution_count": 3,
   "metadata": {},
   "outputs": [],
   "source": [
    "hsp = Heaspy()"
   ]
  },
  {
   "cell_type": "markdown",
   "metadata": {},
   "source": [
    "## ftverify test"
   ]
  },
  {
   "cell_type": "code",
   "execution_count": 8,
   "metadata": {},
   "outputs": [
    {
     "name": "stdout",
     "output_type": "stream",
     "text": [
      "entering __getattr__ for  ftverify\n"
     ]
    }
   ],
   "source": [
    "hsp.ftverify?"
   ]
  },
  {
   "cell_type": "code",
   "execution_count": 7,
   "metadata": {},
   "outputs": [
    {
     "name": "stdout",
     "output_type": "stream",
     "text": [
      "Could not find par file for __file__\n",
      "Could not find par file for __file__\n",
      "ftverify infile=testfile\n",
      " \n",
      "               ftverify 4.19 (CFITSIO V3.470)               \n",
      "               ------------------------------               \n",
      " \n",
      "HEASARC conventions are being checked.\n",
      " \n",
      "File: tmp/testdata/2626010301/auxil/ni2626010301.mkf3\n",
      "\n",
      "2 Header-Data Units in this file.\n",
      " \n",
      "=================== HDU 1: Primary Array ===================\n",
      " \n",
      " 5 header keywords\n",
      " \n",
      " Null data array; NAXIS = 0 \n",
      " \n",
      "=================== HDU 2: BINARY Table ====================\n",
      " \n",
      "*** Warning: Data checksum is not consistent with  the DATASUM keyword\n",
      "*** Warning: HDU checksum is not in agreement with CHECKSUM.\n",
      " \n",
      " 409 header keywords\n",
      " \n",
      " PREFILTER  (96 columns x 2317 rows)\n",
      " \n",
      " Col# Name (Units)       Format\n",
      "   1 TIME (s)             1D        \n",
      "   2 POSITION (km)        3E        \n",
      "   3 VELOCITY (km/s)      3E        \n",
      "   4 QUATERNION           4E        \n",
      "   5 PNTUNIT              3E        \n",
      "   6 POLAR (rad, rad, km) 3E        \n",
      "   7 RA (deg)             1E        \n",
      "   8 DEC (deg)            1E        \n",
      "   9 ROLL (deg)           1E        \n",
      "  10 SAT_LAT (deg)        1E        \n",
      "  11 SAT_LON (deg)        1E        \n",
      "  12 SAT_ALT (km)         1E        \n",
      "  13 ELV (deg)            1E        \n",
      "  14 BR_EARTH (deg)       1E        \n",
      "  15 SUNSHINE             1I        \n",
      "  16 FOV_FLAG             1I        \n",
      "  17 SUN_ANGLE (deg)      1E        \n",
      "  18 MOON_ANGLE (deg)     1E        \n",
      "  19 RAM_ANGLE (deg)      1E        \n",
      "  20 ANG_DIST (deg)       1E        \n",
      "  21 SAA                  1I        \n",
      "  22 SAA_TIME (s)         1E        \n",
      "  23 COR_ASCA (GeV/c)     1E        \n",
      "  24 COR_SAX (GeV/c)      1E        \n",
      "  25 MCILWAIN_L           1E        \n",
      "  26 SUN_RA (deg)         1E        \n",
      "  27 SUN_DEC (deg)        1E        \n",
      "  28 MOON_RA (deg)        1E        \n",
      "  29 MOON_DEC (deg)       1E        \n",
      "  30 EARTH_RA (deg)       1E        \n",
      "  31 EARTH_DEC (deg)      1E        \n",
      "  32 TIME_ADJ (s)         1D        \n",
      "  33 ST_BBO               1B        \n",
      "  34 ST_VALID             1B        \n",
      "  35 ST_OBJECTS           1B        \n",
      "  36 ST_VIDEO_VDC (V)     1B        \n",
      "  37 ATT_ANG_AZ (deg)     1D        \n",
      "  38 ATT_ANG_EL (deg)     1D        \n",
      "  39 RA_CMD (deg)         1D        \n",
      "  40 DEC_CMD (deg)        1D        \n",
      "  41 ATT_ERR_AZ (deg)     1D        \n",
      "  42 ATT_ERR_EL (deg)     1D        \n",
      "  43 ATT_STATE            1B        \n",
      "  44 ATT_MODE             1B        \n",
      "  45 ATT_SUBMODE_AZ       1B        \n",
      "  46 ATT_SUBMODE_EL       1B        \n",
      "  47 TARG_CMD             1I        \n",
      "  48 PPS_SOURCE           1J        \n",
      "  49 PPS_ERR_LOWPASS (s)  1D        \n",
      "  50 GPS_INIT             1B        \n",
      "  51 GPS_CONVERGED        1B        \n",
      "  52 NICER_SAA            1B        \n",
      "  53 ST_STARS             1B        \n",
      "  54 ST_FAILCODE          1B        \n",
      "  55 MPU_ALL_COUNT        56I       \n",
      "  56 MPU_OVER_COUNT       56I       \n",
      "  57 MPU_UNDER_COUNT      56I       \n",
      "  58 MPU_XRAY_COUNT       56I       \n",
      "  59 TOT_ALL_COUNT        1J        \n",
      "  60 TOT_UNDER_COUNT      1J        \n",
      "  61 TOT_OVER_COUNT       1J        \n",
      "  62 TOT_XRAY_COUNT       1J        \n",
      "  63 FPM_ON               56L       \n",
      "  64 NUM_FPM_ON           1J        \n",
      "  65 FPM_RATIO_REJ_COUNT  1E        \n",
      "  66 FPM_XRAY_PI_0000_002 1E        \n",
      "  67 FPM_XRAY_PI_0035_020 1E        \n",
      "  68 FPM_XRAY_PI_0200_080 1E        \n",
      "  69 FPM_XRAY_PI_0800_120 1E        \n",
      "  70 FPM_XRAY_PI_1200_150 1E        \n",
      "  71 FPM_XRAY_PI_1500_170 1E        \n",
      "  72 FPM_XRAY_PI_COUNT    1E        \n",
      "  73 MPU_DEADTIME (s)     7D        \n",
      "  74 MPU_DOUBLE_COUNT     56J       \n",
      "  75 MPU_FT_COUNT         56I       \n",
      "  76 MPU_NOISE25_COUNT    56I       \n",
      "  77 MPU_OVERONLY_COUNT   56J       \n",
      "  78 MPU_UNDERONLY_COUNT  56J       \n",
      "  79 FPM_DOUBLE_COUNT     1E        \n",
      "  80 FPM_OVERONLY_COUNT   1E        \n",
      "  81 FPM_UNDERONLY_COUNT  1E        \n",
      "  82 FPM_FT_COUNT         1E        \n",
      "  83 FPM_NOISE25_COUNT    1E        \n",
      "  84 MPU_FT_PI_AVG (chan) 56E       \n",
      "  85 MPU_FT_PI_ERR (chan) 56E       \n",
      "  86 MPU_FT_PI_FAST_AVG ( 56E       \n",
      "  87 MPU_FT_PI_FAST_ERR ( 56E       \n",
      "  88 MPU_NOISE25_PI_AVG ( 56E       \n",
      "  89 MPU_NOISE25_PI_ERR ( 56E       \n",
      "  90 ISS_ATT_STATE        4A        \n",
      "  91 ROBO_STATE           1B        \n",
      "  92 VEHICLE_SOYUZ_DC1    1B        \n",
      "  93 VEHICLE_SOYUZ_MRM1   1B        \n",
      "  94 VEHICLE_SOYUZ_MRM2   1B        \n",
      "  95 VEHICLE_SOYUZ_SM     1B        \n",
      "  96 KP                   D         \n",
      " \n",
      "++++++++++++++++++++++ Error Summary  ++++++++++++++++++++++\n",
      " \n",
      " HDU#  Name (version)       Type             Warnings  Errors\n",
      " 1                          Primary Array    0         0     \n",
      " 2     PREFILTER            Binary Table     2         0     \n",
      " \n",
      "**** Verification found 2 warning(s) and 0 error(s). ****\n",
      "\n"
     ]
    }
   ],
   "source": [
    "testfile = !ls tmp/testdata/2626010301/auxil/ni2626010301.mkf3\n",
    "testfile = testfile[0]\n",
    "print(hsp.ftverify(infile='testfile'))"
   ]
  },
  {
   "cell_type": "code",
   "execution_count": null,
   "metadata": {},
   "outputs": [],
   "source": []
  },
  {
   "cell_type": "code",
   "execution_count": null,
   "metadata": {},
   "outputs": [],
   "source": []
  },
  {
   "cell_type": "code",
   "execution_count": null,
   "metadata": {},
   "outputs": [],
   "source": []
  },
  {
   "cell_type": "code",
   "execution_count": null,
   "metadata": {},
   "outputs": [],
   "source": []
  }
 ],
 "metadata": {
  "kernelspec": {
   "display_name": "Python 3",
   "language": "python",
   "name": "python3"
  },
  "language_info": {
   "codemirror_mode": {
    "name": "ipython",
    "version": 3
   },
   "file_extension": ".py",
   "mimetype": "text/x-python",
   "name": "python",
   "nbconvert_exporter": "python",
   "pygments_lexer": "ipython3",
   "version": "3.7.3"
  },
  "nav_menu": {},
  "toc": {
   "navigate_menu": true,
   "number_sections": false,
   "sideBar": true,
   "threshold": 6,
   "toc_cell": false,
   "toc_section_display": "block",
   "toc_window_display": false
  }
 },
 "nbformat": 4,
 "nbformat_minor": 2
}
