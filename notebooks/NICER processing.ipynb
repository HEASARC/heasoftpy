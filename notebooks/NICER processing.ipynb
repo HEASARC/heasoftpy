{
 "cells": [
  {
   "cell_type": "code",
   "execution_count": 71,
   "id": "28e7ca75",
   "metadata": {},
   "outputs": [],
   "source": [
    "import sys\n",
    "import os\n",
    "os.environ['HEASOFTPYDIR']= os.path.split(os.getcwd())[0]\n",
    "\n",
    "import heasoftpy as hsp\n",
    "\n",
    "from astropy.table import Table\n",
    "from astropy.time import Time\n",
    "from astropy.io import fits\n",
    "import astropy.units as u"
   ]
  },
  {
   "cell_type": "markdown",
   "id": "4a940580",
   "metadata": {},
   "source": [
    "# Set up the NICER obsid directory\n",
    "\n",
    "We'll assume the user has downloaded the NICER observation directory for OBSID ``4142010107`` in a directory called ``/Users/mcorcora/tmp/nicer``\n",
    "\n",
    "That is the directory ``/Users/mcorcora/tmp/nicer/4142010107`` contains the ``xti``, ``auxil`` and ``hk`` directories containing the standard archived data for the observation"
   ]
  },
  {
   "cell_type": "code",
   "execution_count": 73,
   "id": "f6e42811",
   "metadata": {},
   "outputs": [],
   "source": [
    "nicerdatadir = '/Users/mcorcora/tmp/nicer'\n",
    "nicerobsID = '4142010107'"
   ]
  },
  {
   "cell_type": "code",
   "execution_count": 41,
   "id": "e810234a",
   "metadata": {},
   "outputs": [],
   "source": [
    "cwd = os.getcwd()\n",
    "os.chdir(nicerdatadir)"
   ]
  },
  {
   "cell_type": "markdown",
   "id": "b0d282da",
   "metadata": {},
   "source": [
    "# Create the nicerl2 task"
   ]
  },
  {
   "cell_type": "code",
   "execution_count": 105,
   "id": "5d890bd1",
   "metadata": {},
   "outputs": [
    {
     "name": "stdout",
     "output_type": "stream",
     "text": [
      "Start at: 2021-12-17 20:47:51\n",
      "End at: 2021-12-17 20:47:51\n",
      "nicerl2 took: 0.5630620988085866 seconds\n",
      "\n",
      "\n",
      "Parameter clobber: value \"1\" is not of boolean type.\n",
      "Parameter clobber: value \"1\" is not of boolean type.\n",
      "ERROR: could not retrieve parameter 'clobber' at /Users/mcorcora/software/heasoft/headas/setup/bin/nicerl2 line 187.\n",
      "PIL ERROR PIL_BAD_VALUE: problem converting string to other type\n",
      "Task nicerl2 1.18 terminating with status -3040\n",
      "\n"
     ]
    }
   ],
   "source": [
    "tstart = Time.now()\n",
    "print(f'Start at: {tstart.iso[:19]}')\n",
    "nicerl2 = hsp.HSPTask('nicerl2')\n",
    "\n",
    "nicerl2.clobber=True\n",
    "resl2 = nicerl2(indir=nicerobsID, noprompt=True)\n",
    "\n",
    "tend = Time.now()\n",
    "print(f'End at: {tend.iso[:19]}')\n",
    "print(f'nicerl2 took: {(tend.mjd-tstart.mjd)*86400} seconds')\n",
    "\n",
    "if resl2.returncode != 0:\n",
    "    print('\\n')\n",
    "    for o in resl2.output[:]:\n",
    "        print(o)\n"
   ]
  },
  {
   "cell_type": "code",
   "execution_count": 100,
   "id": "63373824",
   "metadata": {},
   "outputs": [
    {
     "data": {
      "text/plain": [
       "32"
      ]
     },
     "execution_count": 100,
     "metadata": {},
     "output_type": "execute_result"
    }
   ],
   "source": [
    "resl2.returncode"
   ]
  },
  {
   "cell_type": "markdown",
   "id": "4672c9e3",
   "metadata": {},
   "source": [
    "# Analyzing NICER spectra"
   ]
  },
  {
   "cell_type": "code",
   "execution_count": 9,
   "id": "8286b854",
   "metadata": {},
   "outputs": [],
   "source": [
    "# get the on-axis rmf\n",
    "res = quzcif(mission='nicer', instrument='xti',detector='-',\n",
    "             filter='-',codename='matrix', date='-', time='-',expr='-')\n",
    "rmf = [x.split()[0] for x in res.output if 'nixtiref'  in x][0]\n",
    "\n",
    "# get the on-axis arf\n"
   ]
  },
  {
   "cell_type": "code",
   "execution_count": 78,
   "id": "69c22686",
   "metadata": {},
   "outputs": [
    {
     "data": {
      "text/plain": [
       "['ERROR: outfile 4142010107/xti/event_cl/ni4142010107_0mpu0_ufa.evt exists and clobber=NO at /Users/mcorcora/software/heasoft/headas/setup/bin/nimpucal line 158.',\n",
       " 'Task nimpucal 1.10 terminating with status -1']"
      ]
     },
     "execution_count": 78,
     "metadata": {},
     "output_type": "execute_result"
    }
   ],
   "source": [
    "resl2.output[70:72]"
   ]
  },
  {
   "cell_type": "code",
   "execution_count": null,
   "id": "fa32177b",
   "metadata": {},
   "outputs": [],
   "source": []
  }
 ],
 "metadata": {
  "kernelspec": {
   "display_name": "Python 3 (ipykernel)",
   "language": "python",
   "name": "python3"
  },
  "language_info": {
   "codemirror_mode": {
    "name": "ipython",
    "version": 3
   },
   "file_extension": ".py",
   "mimetype": "text/x-python",
   "name": "python",
   "nbconvert_exporter": "python",
   "pygments_lexer": "ipython3",
   "version": "3.9.9"
  },
  "toc": {
   "base_numbering": 1,
   "nav_menu": {},
   "number_sections": false,
   "sideBar": true,
   "skip_h1_title": false,
   "title_cell": "Table of Contents",
   "title_sidebar": "Contents",
   "toc_cell": false,
   "toc_position": {},
   "toc_section_display": true,
   "toc_window_display": true
  },
  "varInspector": {
   "cols": {
    "lenName": 16,
    "lenType": 16,
    "lenVar": 40
   },
   "kernels_config": {
    "python": {
     "delete_cmd_postfix": "",
     "delete_cmd_prefix": "del ",
     "library": "var_list.py",
     "varRefreshCmd": "print(var_dic_list())"
    },
    "r": {
     "delete_cmd_postfix": ") ",
     "delete_cmd_prefix": "rm(",
     "library": "var_list.r",
     "varRefreshCmd": "cat(var_dic_list()) "
    }
   },
   "types_to_exclude": [
    "module",
    "function",
    "builtin_function_or_method",
    "instance",
    "_Feature"
   ],
   "window_display": false
  }
 },
 "nbformat": 4,
 "nbformat_minor": 5
}
