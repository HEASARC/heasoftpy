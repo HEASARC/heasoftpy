{
 "cells": [
  {
   "cell_type": "code",
   "execution_count": 1,
   "id": "28e7ca75",
   "metadata": {
    "init_cell": true
   },
   "outputs": [],
   "source": [
    "import sys\n",
    "import os\n",
    "os.environ['HEASOFTPYDIR']= os.path.split(os.getcwd())[0]\n",
    "import glob\n",
    "\n",
    "import heasoftpy as hsp\n",
    "\n",
    "from astropy.table import Table\n",
    "from astropy.time import Time\n",
    "from astropy.io import fits\n",
    "import astropy.units as u"
   ]
  },
  {
   "cell_type": "code",
   "execution_count": 3,
   "id": "9a4300cf",
   "metadata": {},
   "outputs": [
    {
     "data": {
      "text/plain": [
       "'/Users/mcorcora/tmp/nicer/4020180460/_out'"
      ]
     },
     "execution_count": 3,
     "metadata": {},
     "output_type": "execute_result"
    }
   ],
   "source": [
    "obsdir"
   ]
  },
  {
   "cell_type": "markdown",
   "id": "e2c1e59e",
   "metadata": {},
   "source": [
    "# Set up the NICER obsid directory\n",
    "\n",
    "We'll assume the user has downloaded the NICER observation directory for OBSID ``4142010107`` in a directory called ``/Users/mcorcora/tmp/nicer``\n",
    "\n",
    "That is the directory ``/Users/mcorcora/tmp/nicer/4142010107`` contains the ``xti``, ``auxil`` and ``hk`` directories containing the standard archived data for the observation\n",
    "\n",
    "We'll put the output from nicerl2 in an output directory separate from the input directory"
   ]
  },
  {
   "cell_type": "code",
   "execution_count": 2,
   "id": "a6654fb6",
   "metadata": {
    "init_cell": true
   },
   "outputs": [
    {
     "name": "stdout",
     "output_type": "stream",
     "text": [
      "cp /Users/mcorcora/tmp/nicer/4020180460/auxil/ni4020180460.mkf.gz /Users/mcorcora/tmp/nicer/nicerl2_output/4020180460_out/.\n",
      "Setting mkf file to /Users/mcorcora/tmp/nicer/nicerl2_output/4020180460_out/ni4020180460.mkf\n",
      "chmod u+w /Users/mcorcora/tmp/nicer/nicerl2_output/4020180460_out/ni4020180460.mkf*\n"
     ]
    }
   ],
   "source": [
    "nicerdatadir = os.path.join(os.environ['HOME'],'tmp/nicer')\n",
    "nicerobsID = '4020180460'\n",
    "obsdir = os.path.join(nicerdatadir, nicerobsID)\n",
    "\n",
    "# place cleaned output in a separate directory\n",
    "outdir =  os.path.join(os.environ['HOME'],'tmp/nicer/','nicerl2_output/'+nicerobsID+'_out')\n",
    "# if outdir doesn't exist, create it\n",
    "if not os.path.exists(outdir):\n",
    "    os.makedirs(outdir)\n",
    "    print(f'Created {outdir}')\n",
    "# copy the mkf file from the input directory to the outdir\n",
    "mkf = os.path.join(obsdir,'auxil',f'ni{nicerobsID}.mkf')\n",
    "if os.path.exists(mkf):\n",
    "    # see if mkf is gzipped    \n",
    "    cmd = f'cp {mkf} {outdir}/.'\n",
    "    stat=os.system(cmd)\n",
    "    mkf = os.path.join(outdir, os.path.split(mkf)[1])\n",
    "    print(f'Setting mkf file to {mkf}')\n",
    "elif os.path.exists(mkf+'.gz'):\n",
    "    #try to copy gzipped mkf     \n",
    "    cmd = f'cp {mkf}.gz {outdir}/.'\n",
    "    print(cmd)\n",
    "    os.system(cmd)\n",
    "    mkf = os.path.join(outdir, os.path.split(mkf)[1])\n",
    "    print(f'Setting mkf file to {mkf}')\n",
    "    #cmd = f'gunzip -f {mkf}.gz'\n",
    "    #print(cmd)\n",
    "    #stat=os.system(cmd)\n",
    "cmd = f'chmod u+w {mkf}*'\n",
    "print(cmd)\n",
    "stat = os.system(cmd)\n"
   ]
  },
  {
   "cell_type": "code",
   "execution_count": 4,
   "id": "4a52adf1",
   "metadata": {
    "init_cell": true
   },
   "outputs": [],
   "source": [
    "cwd = os.getcwd()\n",
    "os.chdir(nicerdatadir)"
   ]
  },
  {
   "cell_type": "markdown",
   "id": "ab74f1c2",
   "metadata": {},
   "source": [
    "# Create the nicerl2 task"
   ]
  },
  {
   "cell_type": "code",
   "execution_count": 7,
   "id": "45b698dd",
   "metadata": {},
   "outputs": [
    {
     "name": "stdout",
     "output_type": "stream",
     "text": [
      "Start at: 2021-12-18 17:30:47\n",
      "End at: 2021-12-18 17:33:58\n",
      "nicerl2 took: 191.64053730200976 seconds\n"
     ]
    }
   ],
   "source": [
    "tstart = Time.now()\n",
    "print(f'Start at: {tstart.iso[:19]}')\n",
    "nicerl2 = hsp.HSPTask('nicerl2')\n",
    "\n",
    "nicerl2.clobber=\"yes\"\n",
    "#nicerl2.cldir=outdir\n",
    "#nicerl2.mkffile=mkf\n",
    "# add the KP values to the mkf file during nicerl2 processing\n",
    "nicerl2.geomag_path=\"https://heasarc.gsfc.nasa.gov/FTP/caldb/data/gen/pcf/geomag/\"\n",
    "nicerl2.geomag_columns=\"kp_noaa.fits(KP)\"\n",
    "\n",
    "resl2 = nicerl2(indir=nicerobsID, noprompt=True, cldir=outdir, mkfile=mkf)\n",
    "\n",
    "tend = Time.now()\n",
    "print(f'End at: {tend.iso[:19]}')\n",
    "print(f'nicerl2 took: {(tend.mjd-tstart.mjd)*86400} seconds')\n",
    "\n",
    "if resl2.returncode != 0:\n",
    "    print('\\n')\n",
    "    for o in resl2.output[:]:\n",
    "        print(o)\n"
   ]
  },
  {
   "cell_type": "markdown",
   "id": "a18d39e5",
   "metadata": {},
   "source": [
    "# Analyzing NICER spectra"
   ]
  },
  {
   "cell_type": "code",
   "execution_count": 11,
   "id": "ed41f958",
   "metadata": {},
   "outputs": [],
   "source": [
    "# get the on-axis rmf\n",
    "res = hsp.quzcif(mission='nicer', instrument='xti',detector='-',\n",
    "             filter='-', date='-', time='-',expr='-',codename='MATRIX')\n",
    "rmf = [x.split()[0] for x in res.output if 'nixtiref'  in x][0]\n",
    "\n",
    "# get the on-axis arf\n",
    "res = hsp.quzcif(mission='nicer', instrument='xti',detector='-',\n",
    "             filter='-', date='-', time='-',expr='-',codename='SPECRESP')\n",
    "arf = [x.split()[0] for x in res.output if 'nixtiaveonaxis'  in x][0]\n"
   ]
  },
  {
   "cell_type": "code",
   "execution_count": 13,
   "id": "4b5e68ed",
   "metadata": {},
   "outputs": [
    {
     "data": {
      "text/plain": [
       "('https://heasarc.gsfc.nasa.gov/FTP/caldb/data/nicer/xti/cpf/rmf/nixtiref20170601v003.rmf',\n",
       " 'https://heasarc.gsfc.nasa.gov/FTP/caldb/data/nicer/xti/cpf/arf/nixtiaveonaxis20170601v005.arf')"
      ]
     },
     "execution_count": 13,
     "metadata": {},
     "output_type": "execute_result"
    }
   ],
   "source": [
    "rmf, arf"
   ]
  },
  {
   "cell_type": "code",
   "execution_count": null,
   "id": "9da9a9a8",
   "metadata": {},
   "outputs": [],
   "source": []
  }
 ],
 "metadata": {
  "celltoolbar": "Initialization Cell",
  "kernelspec": {
   "display_name": "Python 3 (ipykernel)",
   "language": "python",
   "name": "python3"
  },
  "language_info": {
   "codemirror_mode": {
    "name": "ipython",
    "version": 3
   },
   "file_extension": ".py",
   "mimetype": "text/x-python",
   "name": "python",
   "nbconvert_exporter": "python",
   "pygments_lexer": "ipython3",
   "version": "3.9.9"
  },
  "toc": {
   "base_numbering": 1,
   "nav_menu": {},
   "number_sections": false,
   "sideBar": true,
   "skip_h1_title": false,
   "title_cell": "Table of Contents",
   "title_sidebar": "Contents",
   "toc_cell": false,
   "toc_position": {},
   "toc_section_display": true,
   "toc_window_display": true
  },
  "varInspector": {
   "cols": {
    "lenName": 16,
    "lenType": 16,
    "lenVar": 40
   },
   "kernels_config": {
    "python": {
     "delete_cmd_postfix": "",
     "delete_cmd_prefix": "del ",
     "library": "var_list.py",
     "varRefreshCmd": "print(var_dic_list())"
    },
    "r": {
     "delete_cmd_postfix": ") ",
     "delete_cmd_prefix": "rm(",
     "library": "var_list.r",
     "varRefreshCmd": "cat(var_dic_list()) "
    }
   },
   "types_to_exclude": [
    "module",
    "function",
    "builtin_function_or_method",
    "instance",
    "_Feature"
   ],
   "window_display": false
  }
 },
 "nbformat": 4,
 "nbformat_minor": 5
}
