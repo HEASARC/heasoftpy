{
 "cells": [
  {
   "cell_type": "markdown",
   "id": "a7af890c-585f-4061-aade-4be99c309552",
   "metadata": {},
   "source": [
    "## An Example Analysing NuSTAR Data\n",
    "\n",
    "In this tutorial, we will go through the steps of analyzing NuSTAR observation of the AGN in center of `SWIFT J2127.4+5654` with `obsid = 60001110002` using `heasoftpy`.\n",
    "\n",
    "The first thing we need is to import the `heasoftpy` package. \n",
    ">The first three lines are needed in case `heasoftpy` is not installed yet. We add the folder containing `heasoftpy` to `sys.path` so we can import it."
   ]
  },
  {
   "cell_type": "code",
   "execution_count": null,
   "id": "75a1cc5f-c51d-4b6f-aee1-078c376696f5",
   "metadata": {},
   "outputs": [],
   "source": [
    "import os\n",
    "import sys"
   ]
  },
  {
   "cell_type": "code",
   "execution_count": null,
   "id": "88bd272c-cba8-464c-bcc9-5b9218471397",
   "metadata": {},
   "outputs": [],
   "source": [
    "# check the environment  #\n",
    "if not 'HEADAS' in os.environ:\n",
    "    raise RuntimeError('Heasoft is not initalized')\n",
    "    \n",
    "if not 'CALDB' in os.environ:\n",
    "    raise RuntimeError('$CALDB is not defined. ')\n",
    "\n",
    "try:\n",
    "    sys.path.insert(0, os.path.abspath(os.path.join(os.path.abspath(''), '..')))\n",
    "    import heasoftpy as hsp\n",
    "except ImportError:\n",
    "    raise RuntimeError('Please ensure heasoftpy is in your PYTHONPATH')"
   ]
  },
  {
   "cell_type": "code",
   "execution_count": null,
   "id": "d13443b5-a2e3-4def-bab1-a1c439972b3b",
   "metadata": {},
   "outputs": [],
   "source": [
    "print(hsp.__version__)\n",
    "print(hsp.__path__)"
   ]
  },
  {
   "cell_type": "markdown",
   "id": "ef6f6a19-663e-442b-a607-eafacab2ff86",
   "metadata": {},
   "source": [
    "Next, we want to download the data. If you have the data downloaded, you can move the observation folder to the same place as this notebook.\n",
    "\n",
    "We can use either `wget` (linux) or `curl` (mac) to download the data\n",
    "\n",
    "```bash\n",
    "wget -q -nH -r -l0 -c -N -np -R 'index*' -erobots=off --retr-symlinks --cut-dirs=6 https://heasarc.gsfc.nasa.gov/FTP/nustar/data/obs/00/6//60001110002/\n",
    "```\n",
    "\n",
    "```bash\n",
    "curl -s --remote-name https://heasarc.gsfc.nasa.gov/FTP/nustar/data/obs/00/6//60001110002/\n",
    "```"
   ]
  },
  {
   "cell_type": "code",
   "execution_count": null,
   "id": "2db3ae02-5339-4aa3-ae98-88c7821ffcde",
   "metadata": {},
   "outputs": [],
   "source": [
    "\n",
    "# downnload the data\n",
    "obsid = '60001110002'\n",
    "if not os.path.exists(obsid):\n",
    "    os.system(\"wget -q -nH -r -l0 -c -N -np -R 'index*' -erobots=off --retr-symlinks --cut-dirs=6 \"\n",
    "              \"https://heasarc.gsfc.nasa.gov/FTP/nustar/data/obs/00/6//60001110002/\")\n"
   ]
  },
  {
   "cell_type": "markdown",
   "id": "eff3f774-a5c0-439e-aba0-d87555a11e52",
   "metadata": {},
   "source": [
    "Next, we use `nupipeline` to process the data ([see detail here](https://heasarc.gsfc.nasa.gov/lheasoft/ftools/caldb/help/nupipeline.html)).\n",
    "\n",
    "As we show in the [Getting Started](getting-started.ipynb) tutorial, we can either call `hsp.nupipeline` or create an instance of `hsp.HSPTaks`. Here, we use the latter\n",
    "\n",
    "Note that to run `nupipeline`, only three parameters are needed: `indir`, `outdir` and `steminput`. By default, calling the task will also query for other parameters. We can instruct the task to use default values by setting `noprompt=True`.\n",
    "\n",
    "Also, because `nupipeline` takes some time to run (several to tens of minutes), we will also request the output to printed on screen as the task runs by using `verbose=True`.\n",
    "\n",
    "For the purposes of illustrations in this tutorial, we will focus on the `FMPA` instrument.\n",
    "\n",
    "If we use `outdir='60001110002_p/event_cl'`, the call may look something like:\n"
   ]
  },
  {
   "cell_type": "code",
   "execution_count": null,
   "id": "708bfb78-4145-4794-88cc-8f7928dfe9b2",
   "metadata": {
    "scrolled": true,
    "tags": []
   },
   "outputs": [],
   "source": [
    "\n",
    "# inialize the task instance\n",
    "nupipeline = hsp.HSPTask('nupipeline')\n",
    "\n",
    "# set some parameters.\n",
    "outdir = obsid + '_p/event_cl'\n",
    "stem   = 'nu' + obsid\n",
    "\n",
    "# call the tasks\n",
    "out = nupipeline(indir=obsid, outdir=outdir, steminputs=stem, instrument='FPMA', \n",
    "                 clobber='yes', noprompt=True, verbose=True)"
   ]
  },
  {
   "cell_type": "markdown",
   "id": "11e6d95f-8c71-47c1-9477-43e850459168",
   "metadata": {},
   "source": [
    "After running for some time, and if things run smoothly, we will get a message like:\n",
    "\n",
    "```\n",
    "=============================================================================================\n",
    "nupipeline_0.4.9: Exit with no errors - Fri Nov 26 13:53:29 EST 2021\n",
    "\n",
    "=============================================================================================\n",
    "=============================================================================================\n",
    "\n",
    "```\n",
    "\n",
    "A return code of `0`, indicates that the task run with success!"
   ]
  },
  {
   "cell_type": "code",
   "execution_count": null,
   "id": "446f3c36-9e60-4245-a510-deedbed51def",
   "metadata": {},
   "outputs": [],
   "source": [
    "print('return code:', out.returncode)"
   ]
  },
  {
   "cell_type": "markdown",
   "id": "a8a2d53e-9500-4462-a6a7-c16d0eda808f",
   "metadata": {},
   "source": [
    "The main cleaned event files are: `nu60001110002A01_cl.evt` and `nu60001110002B01_cl.evt` for NuSTAR modules `A` and `B`, respectively.\n",
    "\n",
    "\n",
    "---\n",
    "Note that the same results can acheived by using the parameters as attributes of the tasks:\n",
    "\n",
    "```python\n",
    "\n",
    "nupipeline = hsp.HSPTask('nupipeline')\n",
    "\n",
    "nupipeline.indir = obsid\n",
    "nupipeline.outdir = obsid + '_p/event_cl'\n",
    "nupipeline.steminput = 'nu' + obsid\n",
    "nupipeline(noprompt=True, verbose=True)\n",
    "\n",
    "```"
   ]
  },
  {
   "cell_type": "markdown",
   "id": "b6ebbc9a-8db6-43e1-b24f-116546c43063",
   "metadata": {},
   "source": [
    "---\n",
    "### Extracting a light curve\n",
    "Now that we have data processed, we can proceed and extract a light curve for the source. For this, we use `nuproducts` (see [nuproducts](https://heasarc.gsfc.nasa.gov/lheasoft/ftools/caldb/help/nuproducts.html) for details)\n",
    "\n",
    "First, we need to create a source and background region files.\n",
    "\n",
    "The source regions is a circle centered on the source with a radius of 150 arcseconds, while the background region is an annulus with an inner and outer radii of 180 and 300 arcseconds, respectively."
   ]
  },
  {
   "cell_type": "code",
   "execution_count": null,
   "id": "79e4a458-9bdf-4d30-bbb2-50bec45e4723",
   "metadata": {},
   "outputs": [],
   "source": [
    "# write region files\n",
    "region = 'circle(21:27:46.406,+56:56:31.38,150\")'\n",
    "with open('src.reg', 'w') as fp: fp.write(region)\n",
    "\n",
    "region = 'annulus(21:27:46.406,+56:56:31.38,180\",300\")'\n",
    "with open('bgd.reg', 'w') as fp: fp.write(region)\n"
   ]
  },
  {
   "cell_type": "code",
   "execution_count": null,
   "id": "b857fb88-469b-47b8-bea8-e9619a3a08db",
   "metadata": {
    "scrolled": true,
    "tags": []
   },
   "outputs": [],
   "source": [
    "\n",
    "# initialize the task instance\n",
    "nuproducts = hsp.HSPTask('nuproducts')\n",
    "\n",
    "params = {\n",
    "    'indir'         : f'{obsid}_p/event_cl',\n",
    "    'outdir'        : f'{obsid}_p/lc',\n",
    "    'instrument'    : 'FPMA',\n",
    "    'steminputs'    : f'nu{obsid}',\n",
    "    'outdir'        : f'{obsid}_p/lc',\n",
    "    'binsize'       : 256,\n",
    "    'bkgextract'    : 'yes',\n",
    "    'srcregionfile' : 'src.reg',\n",
    "    'bkgregionfile' : 'bgd.reg',\n",
    "    'imagefile'     : 'none',\n",
    "    'phafile'       : 'DEFAULT',\n",
    "    'bkgphafile'    : 'DEFAULT',\n",
    "    'runbackscale'  : 'yes',\n",
    "    'correctlc'     : 'yes',\n",
    "    'runmkarf'      : 'no',\n",
    "    'runmkrmf'      : 'no',  \n",
    "}\n",
    "\n",
    "out = nuproducts(params, noprompt=True, verbose=True)\n"
   ]
  },
  {
   "cell_type": "code",
   "execution_count": null,
   "id": "614dd747-9fc6-4075-b2ce-3751df597da2",
   "metadata": {},
   "outputs": [],
   "source": [
    "print('return code:', out.returncode)"
   ]
  },
  {
   "cell_type": "markdown",
   "id": "9dc9b37a-4fe6-4d3e-8c7a-1a44033f70c7",
   "metadata": {},
   "source": [
    "listing the content of the output directory `60001110002_p/lc`, we see that the task has created a source and background light cruves (`nu60001110002A01_sr.lc` and `nu60001110002A01_bk.lc`) along with the corresponding spectra. \n",
    "\n",
    "The task also generates `.flc` file, which contains the background-subtracted light curves.\n",
    "\n",
    "We can proceed in different ways. We may for example use `fits` libraries in `astropy` to read this fits file directly, or we can use `ftlist` to dump the content of that file to an ascii file before reading it (we use `option=T` to list the table content)."
   ]
  },
  {
   "cell_type": "code",
   "execution_count": null,
   "id": "c93f5c1c-c065-46d0-9ec5-f90bcb1bab91",
   "metadata": {},
   "outputs": [],
   "source": [
    "ftlist = hsp.HSPTask('ftlist')\n",
    "out = ftlist(infile='60001110002_p/lc/nu60001110002A01.flc', option='T', \n",
    "             outfile='60001110002_p/lc/nu60001110002A01.txt', rownum='no', colheader='no', clobber='yes')"
   ]
  },
  {
   "cell_type": "markdown",
   "id": "52f890a1-e4dc-48b0-a29b-752bb125095b",
   "metadata": {},
   "source": [
    "Again, we could also have used task attributes as input parameters:\n",
    "```python\n",
    "\n",
    "ftlist = hsp.HSPTask('ftlist')\n",
    "ftlist.infile = '60001110002_p/lc/nu60001110002A01.flc'\n",
    "ftlist.outfile = '60001110002_p/lc/nu60001110002A01.txt'\n",
    "out = ftlist(option='T')\n",
    "\n",
    "```\n",
    "\n",
    "---\n",
    "\n",
    "- Now, we use `numpy` for example for read the file, and `matplotlib` to plot it.\n",
    "\n",
    "- For reading the data, we use `numpy.genfromtxt`, which allows for easy handling of missing data (`NULL` values in our case), so these are just replaced by `np.nan`\n",
    "\n",
    "- The columns are: `Time`, `Time_err`, `Rate`, `Rate_err`, `Fraction_exposure`\n",
    "\n",
    "- After reading the data, we plot the data points with full exposure (`Fraction_exposure == 1`)"
   ]
  },
  {
   "cell_type": "code",
   "execution_count": null,
   "id": "cca88e69-99fa-4301-9fcf-282883fa0fad",
   "metadata": {},
   "outputs": [],
   "source": [
    "import numpy as np\n",
    "import matplotlib.pyplot as plt\n",
    "\n",
    "%matplotlib inline"
   ]
  },
  {
   "cell_type": "code",
   "execution_count": null,
   "id": "8b048f43-e447-461c-a335-f1ab5f9359dd",
   "metadata": {},
   "outputs": [],
   "source": [
    "lc_data = np.genfromtxt('60001110002_p/lc/nu60001110002A01.txt', missing_values='NULL', filling_values=np.nan)\n",
    "good_data = lc_data[:,4] == 1\n",
    "lc_data = lc_data[good_data, :]"
   ]
  },
  {
   "cell_type": "code",
   "execution_count": 24,
   "id": "8230bb70-0b51-4d61-82de-60750c23d9b3",
   "metadata": {},
   "outputs": [
    {
     "data": {
      "text/plain": [
       "Text(0, 0.5, 'Count Rate (per sec)')"
      ]
     },
     "execution_count": 24,
     "metadata": {},
     "output_type": "execute_result"
    },
    {
     "data": {
      "image/png": "[encoded data removed]",
      "text/plain": [
       "<Figure size 864x432 with 1 Axes>"
      ]
     },
     "metadata": {
      "needs_background": "light"
     },
     "output_type": "display_data"
    }
   ],
   "source": [
    "# modify the plot style a little bit\n",
    "plt.rcParams.update({\n",
    "    'font.size': 14, \n",
    "    'lines.markersize': 8.0,\n",
    "    'xtick.direction': 'in',\n",
    "    'ytick.direction': 'in',\n",
    "    'xtick.major.size': 9.,\n",
    "    'ytick.major.size': 9.,\n",
    "})\n",
    "\n",
    "fig = plt.figure(figsize=(12,6))\n",
    "plt.errorbar(lc_data[:,0], lc_data[:,2], lc_data[:,3], fmt='o', lw=0.5)\n",
    "plt.xlabel('Time (sec)')\n",
    "plt.ylabel('Count Rate (per sec)')"
   ]
  },
  {
   "cell_type": "code",
   "execution_count": null,
   "id": "e19783da-56f1-4dcc-891e-b6f3c3b3161a",
   "metadata": {},
   "outputs": [],
   "source": []
  }
 ],
 "metadata": {
  "kernelspec": {
   "display_name": "Python 3 (ipykernel)",
   "language": "python",
   "name": "python3"
  },
  "language_info": {
   "codemirror_mode": {
    "name": "ipython",
    "version": 3
   },
   "file_extension": ".py",
   "mimetype": "text/x-python",
   "name": "python",
   "nbconvert_exporter": "python",
   "pygments_lexer": "ipython3",
   "version": "3.10.13"
  }
 },
 "nbformat": 4,
 "nbformat_minor": 5
}
