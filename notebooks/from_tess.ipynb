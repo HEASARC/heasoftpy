{
 "cells": [
  {
   "cell_type": "code",
   "execution_count": 1,
   "metadata": {},
   "outputs": [
    {
     "name": "stdout",
     "output_type": "stream",
     "text": [
      "Could not find par file for __file__\n",
      "Could not find par file for __file__\n"
     ]
    }
   ],
   "source": [
    "## This errors if you do it twice.  \n",
    "import onthefly as hsp"
   ]
  },
  {
   "cell_type": "code",
   "execution_count": 2,
   "metadata": {},
   "outputs": [
    {
     "name": "stdout",
     "output_type": "stream",
     "text": [
      "Could not find par file for __file__\n",
      "Could not find par file for __file__\n"
     ]
    }
   ],
   "source": [
    "## This should then somehow be done internally in heasoftpy, right?  Otherwise \n",
    "##  none of the below works for me.  If I don't do this, then I get:\n",
    "##  \n",
    "##  ERROR: Device not configured\n",
    "##  Task ftverify 0.0 terminating with status 6\n",
    "##  Unable to redirect prompts to the /dev/tty (at headas_stdio.c:152)\n",
    "##  \n",
    "import os\n",
    "os.environ[\"HEADASNOQUERY\"]=\"True\""
   ]
  },
  {
   "cell_type": "code",
   "execution_count": 3,
   "metadata": {},
   "outputs": [
    {
     "name": "stdout",
     "output_type": "stream",
     "text": [
      "Could not find par file for __file__\n",
      "Could not find par file for __file__\n",
      "Could not find par file for getdoc\n",
      "Could not find par file for __wrapped__\n",
      "Could not find par file for __wrapped__\n",
      "Could not find par file for __wrapped__\n",
      "Could not find par file for __wrapped__\n",
      "Could not find par file for __file__\n",
      "Could not find par file for __call__\n",
      "Could not find par file for __call__\n",
      "Could not find par file for __call__\n"
     ]
    }
   ],
   "source": [
    "## This correctly shows up the Docstring in the Jupyter Pager.  But we somehow\n",
    "##   need to suppress these print statements here.  And the docstring currently says:\n",
    "##\n",
    "##   from heaspy import *\n",
    "##\n",
    "##   and I think we talked about how this doesn't work and doesn't need to.\n",
    "hsp?"
   ]
  },
  {
   "cell_type": "code",
   "execution_count": 4,
   "metadata": {},
   "outputs": [
    {
     "name": "stdout",
     "output_type": "stream",
     "text": [
      "Could not find par file for __file__\n",
      "Could not find par file for __file__\n",
      "Could not find par file for Heaspy\n"
     ]
    }
   ],
   "source": [
    "hsp.ftverify?"
   ]
  },
  {
   "cell_type": "code",
   "execution_count": 4,
   "metadata": {
    "scrolled": true
   },
   "outputs": [
    {
     "name": "stdout",
     "output_type": "stream",
     "text": [
      "Could not find par file for __file__\n",
      "Could not find par file for __file__\n",
      " \n",
      "               ftverify 4.19 (CFITSIO V3.470)               \n",
      "               ------------------------------               \n",
      " \n",
      "HEASARC conventions are being checked.\n",
      " \n",
      "File: test.rsp\n",
      "*** Error:   (from CFITSIO error stack:)\n",
      "             failed to find or open the following file: (ffopen)\n",
      "             test.rsp\n",
      "             \n",
      "**** Abort Verification: Fatal Error. ****\n",
      "\n"
     ]
    }
   ],
   "source": [
    "## What this is currently doing is calling the tool in mode=h with whatever's in the user parameter file.\n",
    "##  Is this what we want?  Or should this, when given no parameters, use mode=h and the *defaults* (ignoring\n",
    "##  the user's history in their user pfiles), or print some kind of help?\n",
    "print(hsp.ftverify())"
   ]
  },
  {
   "cell_type": "code",
   "execution_count": 5,
   "metadata": {},
   "outputs": [
    {
     "name": "stdout",
     "output_type": "stream",
     "text": [
      "Could not find par file for __file__\n",
      "Could not find par file for __file__\n",
      "Could not find par file for Heaspy\n"
     ]
    }
   ],
   "source": [
    "##  Do we want this to just show the parameters for fdump?  \n",
    "##   This currently shows up in the pager window (good) but with no \n",
    "##   info about the params.  \n",
    "hsp.fdump?"
   ]
  },
  {
   "cell_type": "code",
   "execution_count": 6,
   "metadata": {},
   "outputs": [
    {
     "name": "stdout",
     "output_type": "stream",
     "text": [
      "Could not find par file for __file__\n",
      "Could not find par file for __file__\n"
     ]
    },
    {
     "ename": "AttributeError",
     "evalue": "'function' object has no attribute 'help'",
     "output_type": "error",
     "traceback": [
      "\u001b[0;31m---------------------------------------------------------------------------\u001b[0m",
      "\u001b[0;31mAttributeError\u001b[0m                            Traceback (most recent call last)",
      "\u001b[0;32m<ipython-input-6-6c9f17c05293>\u001b[0m in \u001b[0;36m<module>\u001b[0;34m\u001b[0m\n\u001b[1;32m      1\u001b[0m \u001b[0;31m##  I think we want something like this to print the help for ftverify\u001b[0m\u001b[0;34m\u001b[0m\u001b[0;34m\u001b[0m\u001b[0;34m\u001b[0m\u001b[0m\n\u001b[0;32m----> 2\u001b[0;31m \u001b[0mhsp\u001b[0m\u001b[0;34m.\u001b[0m\u001b[0mftverify\u001b[0m\u001b[0;34m.\u001b[0m\u001b[0mhelp\u001b[0m\u001b[0;34m(\u001b[0m\u001b[0;34m)\u001b[0m\u001b[0;34m\u001b[0m\u001b[0;34m\u001b[0m\u001b[0m\n\u001b[0m",
      "\u001b[0;31mAttributeError\u001b[0m: 'function' object has no attribute 'help'"
     ]
    }
   ],
   "source": [
    "##  I think we want something like this to print the help for ftverify\n",
    "hsp.ftverify.help()"
   ]
  },
  {
   "cell_type": "code",
   "execution_count": 7,
   "metadata": {},
   "outputs": [
    {
     "name": "stdout",
     "output_type": "stream",
     "text": [
      "Could not find par file for __file__\n",
      "Could not find par file for __file__\n"
     ]
    },
    {
     "data": {
      "text/plain": [
       "' \\n               ftverify 4.19 (CFITSIO V3.470)               \\n               ------------------------------               \\n \\nHEASARC conventions are being checked.\\n \\nFile: /Users/tjaffe/space//data/heasarc/mission_samples/test_verify/3FGL_J0534d5p2201i_lc.fits.gz\\n*** Error:   (from CFITSIO error stack:)\\n             failed to find or open the following file: (ffopen)\\n             /Users/tjaffe/space//data/heasarc/mission_samples/test_verify/3FGL_\\n             _lc.fits.gz\\n             \\n**** Abort Verification: Fatal Error. ****\\n'"
      ]
     },
     "execution_count": 7,
     "metadata": {},
     "output_type": "execute_result"
    }
   ],
   "source": [
    "hsp.ftverify(infile='/Users/tjaffe/space//data/heasarc/mission_samples/test_verify/3FGL_J0534d5p2201i_lc.fits.gz')"
   ]
  },
  {
   "cell_type": "code",
   "execution_count": 8,
   "metadata": {
    "scrolled": true
   },
   "outputs": [
    {
     "name": "stdout",
     "output_type": "stream",
     "text": [
      "Could not find par file for __file__\n",
      "Could not find par file for __file__\n",
      " \n",
      "               ftverify 4.19 (CFITSIO V3.470)               \n",
      "               ------------------------------               \n",
      " \n",
      "HEASARC conventions are being checked.\n",
      " \n",
      "File: /Users/tjaffe/space//data/heasarc/mission_samples/test_verify/3FGL_J0534d5p2201i_lc.fits.gz\n",
      "*** Error:   (from CFITSIO error stack:)\n",
      "             failed to find or open the following file: (ffopen)\n",
      "             /Users/tjaffe/space//data/heasarc/mission_samples/test_verify/3FGL_\n",
      "             _lc.fits.gz\n",
      "             \n",
      "**** Abort Verification: Fatal Error. ****\n",
      "\n"
     ]
    }
   ],
   "source": [
    "## Next step we want a result structure as in the req. doc.\n",
    "print(hsp.ftverify(infile='/Users/tjaffe/space//data/heasarc/mission_samples/test_verify/3FGL_J0534d5p2201i_lc.fits.gz'))"
   ]
  },
  {
   "cell_type": "code",
   "execution_count": null,
   "metadata": {},
   "outputs": [],
   "source": []
  }
 ],
 "metadata": {
  "kernelspec": {
   "display_name": "Python 3",
   "language": "python",
   "name": "python3"
  },
  "language_info": {
   "codemirror_mode": {
    "name": "ipython",
    "version": 3
   },
   "file_extension": ".py",
   "mimetype": "text/x-python",
   "name": "python",
   "nbconvert_exporter": "python",
   "pygments_lexer": "ipython3",
   "version": "3.7.3"
  },
  "nav_menu": {},
  "toc": {
   "navigate_menu": true,
   "number_sections": true,
   "sideBar": true,
   "threshold": 6,
   "toc_cell": false,
   "toc_section_display": "block",
   "toc_window_display": false
  }
 },
 "nbformat": 4,
 "nbformat_minor": 2
}
